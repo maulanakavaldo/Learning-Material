{
 "cells": [
  {
   "cell_type": "markdown",
   "metadata": {},
   "source": [
    "# Non-Equiprobable Outcomes\n",
    "\n",
    "Sejauh ini, kita memiliki asumsi bahwa segala sesuatu ideal. Misal sebuah koin akan selalu memiliki probabilitas 50:50, dadu 6 sisi memiliki probabilitas sama untuk tiap sisinya, dll. Namun, pada kenyataannya segala sesuatu tidak selalu ideal, misal ada dadu atau yang berat sebelah karena ada error di proses manufaktur.\n",
    "\n",
    "Dalam sesi ini, juga akan diperkenalkan beberapa istilah baru:\n",
    "\n",
    "* [Frekuensi](https://en.wikipedia.org/wiki/Frequency_%28statistics%29): Bilangan non-negatif yang mendeskripsikan seberapa sering sebuah kejadian terjadi. Bisa dalam bentuk bilangan seperti \"5\", atau sebuah rasio seperti \"1/6\".\n",
    "\n",
    "* [Distribusi](http://mathworld.wolfram.com/StatisticalDistribution.html): Sebuah pemetaan dari outcome/hasil ke frekuensi dari *outcome*. Kita memperbolehkan ruang sampel sebagai distribusi. \n",
    "\n",
    "* [Probability Distribution](https://en.wikipedia.org/wiki/Probability_distribution): *Probability distribution* adalah distribusi yang frekuensinya jika dijumlahkan bernilai 1. \n"
   ]
  },
  {
   "cell_type": "code",
   "execution_count": null,
   "metadata": {},
   "outputs": [],
   "source": [
    "from collections import Counter\n",
    "        \n",
    "class Dist(Counter): \n",
    "    \"A Distribution of {outcome: frequency} pairs.\""
   ]
  },
  {
   "cell_type": "markdown",
   "metadata": {},
   "source": [
    "Karena `Dist` adalah sebuah `Counter`, Kita dapat menginisiasi seperti berikut:"
   ]
  },
  {
   "cell_type": "code",
   "execution_count": null,
   "metadata": {},
   "outputs": [],
   "source": [
    "# A set of equiprobable outcomes:\n",
    "Dist({1, 2, 3, 4, 5, 6})"
   ]
  },
  {
   "cell_type": "code",
   "execution_count": null,
   "metadata": {},
   "outputs": [],
   "source": [
    "# A collection of outcomes, with repetition indicating frequency:\n",
    "Dist('THHHTTHHT')"
   ]
  },
  {
   "cell_type": "code",
   "execution_count": null,
   "metadata": {},
   "outputs": [],
   "source": [
    "# A mapping of {outcome: frequency} pairs:\n",
    "Dist({'H': 5, 'T': 4})"
   ]
  },
  {
   "cell_type": "code",
   "execution_count": null,
   "metadata": {},
   "outputs": [],
   "source": [
    "# Keyword arguments:\n",
    "Dist(H=5, T=4) == Dist({'H': 5}, T=4) == Dist('TTTT', H=5)"
   ]
  },
  {
   "cell_type": "markdown",
   "metadata": {},
   "source": [
    "Sekarang, kita akan modifikasi kode yang sudah ada untuk kasus distribusi.\n",
    "\n",
    "- Sample spaces dan events dapat berupa `set` atau `Dist`.\n",
    "- Ruang sample bisa dalam bentuk non-probability distribution seperti `Dist(H=50, T=50)`; hasilnya akan sama\n",
    "dengan ruang sampel jika didefinisikan dengan probability distribution seperti `Dist(H=1/2, T=1/2)`.\n",
    "- Fungsi `cases` sekarang akan menjumlahkan frekuensi di dalam distribusi (sebelumnya hanya menghitung length dari sebuah set).\n",
    "- Fungsi `favorable` sekarang menghasilkan `Dist` dari *favorable outcomes* dan frekuensinya (bukan `set`).\n",
    "- Fungsi `Fraction` di definisikan ulang sebagai `\"/\"`, bukan `fractions.Fraction`, karena frekuensi mungkin saja berbentuk desimal.\n",
    "- `P` tidak berubah.\n"
   ]
  },
  {
   "cell_type": "code",
   "execution_count": null,
   "metadata": {},
   "outputs": [],
   "source": [
    "import itertools\n",
    "import random\n",
    "from fractions import Fraction\n",
    "\n",
    "def cases(outcomes): \n",
    "    \"The total frequency of all the outcomes.\"\n",
    "    return sum(Dist(outcomes).values())\n",
    "\n",
    "def favorable(event, space):\n",
    "    \"A distribution of outcomes from the sample space that are in the event.\"\n",
    "    space = Dist(space)\n",
    "    return Dist({x: space[x] \n",
    "                 for x in space if x in event})\n",
    "\n",
    "def Fraction(n, d): return n / d\n",
    "\n",
    "def P(event, space): \n",
    "    \"The probability of an event, given a sample space.\"\n",
    "    return Fraction(cases(favorable(event, space)), \n",
    "                    cases(space))"
   ]
  },
  {
   "cell_type": "markdown",
   "metadata": {},
   "source": [
    "Sebagai contoh, berikut adalah probabilitas dari sebuah dadu yang jelek dengan harapan keluar angka genap. Dadu terlihat memiliki preferensi untuk keluar angka 6 :"
   ]
  },
  {
   "cell_type": "code",
   "execution_count": null,
   "metadata": {},
   "outputs": [],
   "source": [
    "Crooked = Dist({1: 0.1, 2: 0.1, 3: 0.1, 4: 0.1, 5: 0.1, 6: 0.5})\n",
    "even = {2,4,6}\n",
    "\n",
    "P(even, Crooked)"
   ]
  },
  {
   "cell_type": "markdown",
   "metadata": {},
   "source": [
    "Contoh lain, sebuah [artikel](http://people.kzoo.edu/barth/math105/moreboys.pdf) memiliki data untuk keluarga dengan 2 anak di Denmark, dimana `GB` berarti anak pertama adalah perempuan \"Girl\" dan anak kedua \"Boy\".\n",
    "\n",
    "    GG: 121801    GB: 126840\n",
    "    BG: 127123    BB: 135138"
   ]
  },
  {
   "cell_type": "code",
   "execution_count": null,
   "metadata": {},
   "outputs": [],
   "source": [
    "DK = Dist(GG=121801, GB=126840,\n",
    "          BG=127123, BB=135138)"
   ]
  },
  {
   "cell_type": "code",
   "execution_count": null,
   "metadata": {},
   "outputs": [],
   "source": [
    "first_girl  = {'GG', 'GB'}\n",
    "P(first_girl, DK)"
   ]
  },
  {
   "cell_type": "code",
   "execution_count": null,
   "metadata": {},
   "outputs": [],
   "source": [
    "second_girl = {'GG', 'BG'}\n",
    "P(second_girl, DK)"
   ]
  },
  {
   "cell_type": "markdown",
   "metadata": {},
   "source": [
    "Yang berarti kemungkinan untuk lahir anak perempuan berada di antara 48% and 49%. Kemungkinan untuk perempuan sedikit lebih tinggi untuk anak kedua. \n",
    "\n",
    "Jika sudah memiliki anak pertama, apakah anda lebih mungkin untuk mendapatkan anak kedua dengan gender yang sama?"
   ]
  },
  {
   "cell_type": "code",
   "execution_count": null,
   "metadata": {},
   "outputs": [],
   "source": [
    "same = {'GG', 'BB'}\n",
    "P(same, DK)"
   ]
  },
  {
   "cell_type": "markdown",
   "metadata": {},
   "source": [
    "Ya, tapi hanya 0.3%. lebih tinggi"
   ]
  }
 ],
 "metadata": {
  "kernelspec": {
   "display_name": "Python 3.10.8 64-bit",
   "language": "python",
   "name": "python3"
  },
  "language_info": {
   "name": "python",
   "version": "3.10.8"
  },
  "orig_nbformat": 4,
  "vscode": {
   "interpreter": {
    "hash": "58837b1b657ea91009af8409fc244ae3b5ccf93ea980d6fb6b80adc5f697f4cc"
   }
  }
 },
 "nbformat": 4,
 "nbformat_minor": 2
}
