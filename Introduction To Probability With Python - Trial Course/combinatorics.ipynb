{
 "cells": [
  {
   "cell_type": "markdown",
   "metadata": {},
   "source": [
    "# Kombinatorik\n",
    "\n",
    "Dalam pembuatan sebuah set, terkadang diperlukan pengolahan terlebih dahulu. Misal, contoh sederhana:\n",
    "* Menghitung kombinasi cara pemasangan pakaian.\n",
    "* Kombinasi penarikan kartu.\n",
    "* Ada berapa kali cara 3 kejadian sukses (barang defect, customer churn) dalam 5 observasi?\n",
    "\n",
    "Dalam kombinatorik, digunakan 2 metode dasar untuk menjawab pertanyaan tersebut:\n",
    "* Permutasi\n",
    "* Kombinasi"
   ]
  },
  {
   "cell_type": "markdown",
   "metadata": {},
   "source": [
    "## Permutasi\n",
    "\n",
    "Permutasi adalah cara penyusunan dengan urutan pada suatu kumpulan objek.\n",
    "* Misalkan kita memiliki 4 objek huruf {A,H,L,O}\n",
    "* Jika 4 huruf ini disusun, maka dapat terbentuk:\n",
    "  * AHLO\n",
    "  * HALO\n",
    "  * OLAH\n",
    "  * HOLA\n",
    "  * dll\n",
    "  \n",
    "<!-- <center><img src=\"images/combinatorics_1.PNG\" alt=\"Drawing\" style=\"width: 400px;\"/></center> -->\n",
    "\n",
    "Sehingga, secara matematik dapat diekspresikan sebagai:\n",
    "<center>$n(n-1)(n-2)\\ldots 1 = n!$</center>\n",
    "\n",
    "Dalam Python:"
   ]
  },
  {
   "cell_type": "code",
   "execution_count": 1,
   "metadata": {},
   "outputs": [],
   "source": [
    "from itertools import permutations"
   ]
  },
  {
   "cell_type": "code",
   "execution_count": 2,
   "metadata": {},
   "outputs": [],
   "source": [
    "huruf = {'A','H','L','O'}"
   ]
  },
  {
   "cell_type": "code",
   "execution_count": 3,
   "metadata": {},
   "outputs": [],
   "source": [
    "perm = permutations(huruf)"
   ]
  },
  {
   "cell_type": "code",
   "execution_count": 4,
   "metadata": {},
   "outputs": [
    {
     "name": "stdout",
     "output_type": "stream",
     "text": [
      "('H', 'A', 'O', 'L')\n",
      "('H', 'A', 'L', 'O')\n",
      "('H', 'O', 'A', 'L')\n",
      "('H', 'O', 'L', 'A')\n",
      "('H', 'L', 'A', 'O')\n",
      "('H', 'L', 'O', 'A')\n",
      "('A', 'H', 'O', 'L')\n",
      "('A', 'H', 'L', 'O')\n",
      "('A', 'O', 'H', 'L')\n",
      "('A', 'O', 'L', 'H')\n",
      "('A', 'L', 'H', 'O')\n",
      "('A', 'L', 'O', 'H')\n",
      "('O', 'H', 'A', 'L')\n",
      "('O', 'H', 'L', 'A')\n",
      "('O', 'A', 'H', 'L')\n",
      "('O', 'A', 'L', 'H')\n",
      "('O', 'L', 'H', 'A')\n",
      "('O', 'L', 'A', 'H')\n",
      "('L', 'H', 'A', 'O')\n",
      "('L', 'H', 'O', 'A')\n",
      "('L', 'A', 'H', 'O')\n",
      "('L', 'A', 'O', 'H')\n",
      "('L', 'O', 'H', 'A')\n",
      "('L', 'O', 'A', 'H')\n"
     ]
    }
   ],
   "source": [
    "for i in list(perm):\n",
    "    print(i)"
   ]
  },
  {
   "cell_type": "markdown",
   "metadata": {},
   "source": [
    "* Bagaimana jika hanya diambil elemen sejumlah $k$ ?\n",
    "\n",
    "<center><img src=\"images/combinatorics_2.PNG\" alt=\"Drawing\" style=\"width: 200px;\"/></center>\n",
    "\n",
    "Secara matematis dapat ditulis:\n",
    "<center><img src=\"images/combinatorics_3.PNG\" alt=\"Drawing\" style=\"width: 100px;\"/></center>"
   ]
  },
  {
   "cell_type": "code",
   "execution_count": 5,
   "metadata": {},
   "outputs": [],
   "source": [
    "k = 2\n",
    "perm_k = permutations(huruf, k)"
   ]
  },
  {
   "cell_type": "code",
   "execution_count": 6,
   "metadata": {},
   "outputs": [
    {
     "name": "stdout",
     "output_type": "stream",
     "text": [
      "('H', 'A')\n",
      "('H', 'O')\n",
      "('H', 'L')\n",
      "('A', 'H')\n",
      "('A', 'O')\n",
      "('A', 'L')\n",
      "('O', 'H')\n",
      "('O', 'A')\n",
      "('O', 'L')\n",
      "('L', 'H')\n",
      "('L', 'A')\n",
      "('L', 'O')\n"
     ]
    }
   ],
   "source": [
    "for i in list(perm_k):\n",
    "    print(i)"
   ]
  },
  {
   "cell_type": "markdown",
   "metadata": {},
   "source": [
    "## Kombinasi\n",
    "\n",
    "* Banyaknya subset yang dapat dibentuk dari suatu set awal:\n",
    "* Misal, anda memiliki 3 teman {Joko, Budi, Seno}\n",
    "* Namun, anda hanya bisa mengajak 2 dari mereka untuk naik mobil anda.\n",
    "* Kombinasi yang mungkin adalah:\n",
    "  * {Joko, Budi}\n",
    "  * {Joko, Seno}\n",
    "  * {Seno, Budi}"
   ]
  },
  {
   "cell_type": "markdown",
   "metadata": {},
   "source": [
    "## Kombinasi vs Permutasi\n",
    "\n",
    "* Kombinasi tidak terpengaruh oleh urutan.\n",
    "* Dalam kombinasi: {Joko, Budi} $=$ {Budi, Joko}\n",
    "* Dalam permutasi: {Joko, Budi} $\\neq$ {Budi, Joko}"
   ]
  },
  {
   "cell_type": "code",
   "execution_count": 7,
   "metadata": {},
   "outputs": [],
   "source": [
    "from itertools import combinations"
   ]
  },
  {
   "cell_type": "code",
   "execution_count": 8,
   "metadata": {},
   "outputs": [],
   "source": [
    "teman = {'Joko', 'Budi', 'Seno'}"
   ]
  },
  {
   "cell_type": "code",
   "execution_count": 9,
   "metadata": {},
   "outputs": [],
   "source": [
    "comb = combinations(teman,2)"
   ]
  },
  {
   "cell_type": "code",
   "execution_count": 10,
   "metadata": {},
   "outputs": [
    {
     "name": "stdout",
     "output_type": "stream",
     "text": [
      "('Joko', 'Budi')\n",
      "('Joko', 'Seno')\n",
      "('Budi', 'Seno')\n"
     ]
    }
   ],
   "source": [
    "for i in list(comb):\n",
    "    print(i)"
   ]
  },
  {
   "cell_type": "markdown",
   "metadata": {},
   "source": [
    "Untuk menghitung jumlah kombinasi dapat digunakan ekspresi matematis:\n",
    "<center><img src=\"images/combinatorics_4.PNG\" alt=\"Drawing\" style=\"width: 300px;\"/></center>"
   ]
  }
 ],
 "metadata": {
  "kernelspec": {
   "display_name": "Python 3.10.8 64-bit",
   "language": "python",
   "name": "python3"
  },
  "language_info": {
   "codemirror_mode": {
    "name": "ipython",
    "version": 3
   },
   "file_extension": ".py",
   "mimetype": "text/x-python",
   "name": "python",
   "nbconvert_exporter": "python",
   "pygments_lexer": "ipython3",
   "version": "3.10.8"
  },
  "orig_nbformat": 4,
  "vscode": {
   "interpreter": {
    "hash": "58837b1b657ea91009af8409fc244ae3b5ccf93ea980d6fb6b80adc5f697f4cc"
   }
  }
 },
 "nbformat": 4,
 "nbformat_minor": 2
}
