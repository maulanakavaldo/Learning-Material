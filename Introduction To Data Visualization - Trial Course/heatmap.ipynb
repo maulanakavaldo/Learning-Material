{
 "cells": [
  {
   "cell_type": "markdown",
   "metadata": {},
   "source": [
    "### **Data Visualization 6: Heatmap**.\n"
   ]
  },
  {
   "cell_type": "code",
   "execution_count": null,
   "metadata": {},
   "outputs": [],
   "source": [
    "import matplotlib.pyplot as plt\n",
    "import seaborn as sns"
   ]
  },
  {
   "cell_type": "markdown",
   "metadata": {},
   "source": [
    "# Apa itu Heatmap?"
   ]
  },
  {
   "cell_type": "markdown",
   "metadata": {},
   "source": [
    "Heatmap adalah grafik 2 dimensi yang mana representasi dari tiap nilai yang terdapat pada matriks atau datanya adalah warna (color encoded)."
   ]
  },
  {
   "cell_type": "code",
   "execution_count": null,
   "metadata": {},
   "outputs": [],
   "source": [
    "plt.figure(figsize = [10, 10])\n",
    "sns.heatmap(\n",
    "    sns.load_dataset(\"flights\").pivot(\"year\", \"month\", \"passengers\"),\n",
    "    cmap = \"YlGnBu\"\n",
    ")\n"
   ]
  },
  {
   "cell_type": "markdown",
   "metadata": {},
   "source": [
    "Heatmap umum digunakan saat dealing dengan multiple asset, contoh use-cases:\n",
    "- Cek korelasi antar variable.\n",
    "- Cek penjualan atau sales pada suatu bulan over the year.\n",
    "- dll."
   ]
  },
  {
   "cell_type": "markdown",
   "metadata": {},
   "source": [
    "# Bagaimana membuatnya?"
   ]
  },
  {
   "cell_type": "markdown",
   "metadata": {},
   "source": [
    "Untuk membuat heatmap ada banyak cara, bisa menggunakan **imshow** atau **pcolormesh** yang telah disediakan oleh matplotlib atau bisa menggunakan **heatmap** dari seaborn."
   ]
  },
  {
   "cell_type": "markdown",
   "metadata": {},
   "source": [
    "Sekilas mengenai **Seaborn** dan **Matplotlib**: <br>\n",
    "**Seaborn** adalah library visualisasi data selayaknya **Matplotlib**, **Seaborn** dibangun berdasarkan **Matplotlib** sehingga memiliki kelebihan yaitu lebih *friendly* untuk digunakan."
   ]
  },
  {
   "cell_type": "markdown",
   "metadata": {},
   "source": [
    "Sintaks penggunaan heatmap pada seaborn adalah sebagai berikut: <br>\n",
    "> `sns.heatmap(data)` <br>\n",
    "\n",
    "**data** disini adalah berupa matriks atau DataFrame atau ndarray. <br>\n",
    "**data** harus mempunyai:<br>\n",
    "- index atau row dan kolom yang bertipe data numerik maupun kategorikal.\n",
    "- index atau row dan kolom ini masing-masing harus satu satuan atau satu unit atau satu skala.\n",
    "- nilainya harus berupa numerik baik itu bulat atau pecahan."
   ]
  },
  {
   "cell_type": "code",
   "execution_count": null,
   "metadata": {},
   "outputs": [],
   "source": [
    "sns.load_dataset(\"flights\")"
   ]
  },
  {
   "cell_type": "markdown",
   "metadata": {},
   "source": [
    "Contoh pada DataFrame diatas row atau index merupakan satu unit atau 1 skala sedangkan kolomnya tidak, ada yang berupa tahun, jumlah penumpang dan bahkan bulan yang nilainya bukan lagi numerik."
   ]
  },
  {
   "cell_type": "code",
   "execution_count": null,
   "metadata": {},
   "outputs": [],
   "source": [
    "sns.heatmap(\n",
    "    sns.load_dataset(\"flights\"),\n",
    "    cmap = \"YlGnBu\"\n",
    ")"
   ]
  },
  {
   "cell_type": "markdown",
   "metadata": {},
   "source": [
    "Contoh diatas adalah kejadian yang akan timbul jika terdapat nilai yang bukan merupakan numerik, karena bukan numerik tidak bisa dikuantisasi.\n",
    "Menghilangkan kolom yang non numerik tersebut."
   ]
  },
  {
   "cell_type": "code",
   "execution_count": null,
   "metadata": {},
   "outputs": [],
   "source": [
    "plt.figure(figsize = [10, 10])\n",
    "sns.heatmap(\n",
    "    sns.load_dataset(\"flights\").drop(columns = \"month\"),\n",
    "    cmap = \"YlGnBu\"\n",
    ")"
   ]
  },
  {
   "cell_type": "markdown",
   "metadata": {},
   "source": [
    "Tidak bisa mendapatkan apapun. Hal ini dikarenakan meski telah sama-sama numerik tapi unit atau skalanya berbeda. <br>\n",
    "Solusinya tergantung kebutuhan dari\n",
    "- Apa yang ingin ditampilkan?\n",
    "- Apa hal yang kita inginkan tersebut didukung oleh data yang kita miliki?\n",
    "\n",
    "Jika dilihat kembali data yang masih utuh, maka kita dapat intuisi bahwa sebenarnya data pada kolom **passengers** adalah data jumlah penumpang pada bulan dan tahun tertentu. <br>\n",
    "<br>\n",
    "Membuat heatmap dari **passengers** vs **year** yang mana pada percobaan kali ini index akan berupa **year**."
   ]
  },
  {
   "cell_type": "code",
   "execution_count": null,
   "metadata": {},
   "outputs": [],
   "source": [
    "plt.figure(figsize = [10, 10])\n",
    "sns.heatmap(\n",
    "    sns.load_dataset(\"flights\").drop(columns = [\"month\"]).set_index(\"year\"),\n",
    "    cmap = \"YlGnBu\"\n",
    ")"
   ]
  },
  {
   "cell_type": "markdown",
   "metadata": {},
   "source": [
    "Dari heatmap diatas didapatkan bahwa pada tahun 1960 terdapat lonjakan penumpang, hal itu juga terjadi pada tahun 1959, 1958, 1957, dsb. Cukup berguna ya?<br>\n",
    "<br>\n",
    "Namun kita akan buat lebih berguna lagi, kita tau bahwa nilai pada **passengers** merupakan jumlah penumpang pada tahun dan bulan tertentu. Maka dari itu saat ini kita akan menambahkan **month** pada grafik.<br>\n",
    "<br>\n",
    "Ingat, bayangkan **heatmap** itu adalah matriks 2 dimensi. Kita harus membuat data kita berbentuk seperti itu dengan menggunkan pivot table. Untuk membuat pivot table kita membutuhkan 3 buah variabel atau kolom yaitu 2 kolom untuk mengisi *axis x* dan *axis y* sendangkan 1 lagi untuk mengisi nilainya. <br>\n",
    "<br>\n",
    "Untungnya pandas sudah menyiapkan fungsi yang dapat mempermudah kita dalam membuat pivot table. Sintaks fungsinya adalah <br>\n",
    "> `pivot([y_axis], [x_axis], [nilai_matriks])`"
   ]
  },
  {
   "cell_type": "code",
   "execution_count": null,
   "metadata": {},
   "outputs": [],
   "source": [
    "sns.load_dataset(\"flights\").pivot(\"year\", \"month\", \"passengers\")"
   ]
  },
  {
   "cell_type": "code",
   "execution_count": null,
   "metadata": {},
   "outputs": [],
   "source": [
    "plt.figure(figsize = [10, 10])\n",
    "sns.heatmap(\n",
    "    sns.load_dataset(\"flights\").pivot(\"year\", \"month\", \"passengers\"),\n",
    "    cmap = \"YlGnBu\"\n",
    ")"
   ]
  },
  {
   "cell_type": "markdown",
   "metadata": {},
   "source": [
    "# Kostumisasi Heatmap"
   ]
  },
  {
   "cell_type": "markdown",
   "metadata": {},
   "source": [
    "- Mengganti nilai min dan maks representasi dari variable **pessengers**.\n",
    "- Mengganti warna pada heatmap.\n",
    "- Menampilkan nilai pada tiap sel pada heatmap.\n",
    "- Resize heatmap.\n",
    "- Menampilkan garis diatara sell."
   ]
  },
  {
   "cell_type": "markdown",
   "metadata": {},
   "source": [
    "### 1. Mengganti nilai min dan maks representasi dari variable **pessengers**."
   ]
  },
  {
   "cell_type": "markdown",
   "metadata": {},
   "source": [
    "Mengganti nilai min dan maks representasi dapat dilakukan dengan menambahkan paramter berupa:\n",
    "- **vmin** untuk nilai minimumnya.\n",
    "- **vmax** untuk nilai maksimumnya."
   ]
  },
  {
   "cell_type": "code",
   "execution_count": null,
   "metadata": {},
   "outputs": [],
   "source": [
    "plt.figure(figsize = [10, 10])\n",
    "sns.heatmap(\n",
    "    sns.load_dataset(\"flights\").pivot(\"year\", \"month\", \"passengers\"),\n",
    "    cmap = \"YlGnBu\",\n",
    "    vmin = 0,\n",
    "    vmax = 1000\n",
    ")"
   ]
  },
  {
   "cell_type": "markdown",
   "metadata": {},
   "source": [
    "### 2. Mengganti warna heatmap."
   ]
  },
  {
   "cell_type": "markdown",
   "metadata": {},
   "source": [
    "matplotlib: <br>\n",
    "https://matplotlib.org/stable/tutorials/colors/colormaps.html. <br>\n",
    "\n",
    "> `cmap = 'nama color map'`. <br>\n",
    "<br>\n",
    "\n",
    "Bersifat **CASE SENSITIVE**."
   ]
  },
  {
   "cell_type": "code",
   "execution_count": null,
   "metadata": {},
   "outputs": [],
   "source": [
    "plt.figure(figsize = [10, 10])\n",
    "sns.heatmap(\n",
    "    sns.load_dataset(\"flights\").pivot(\"year\", \"month\", \"passengers\"),\n",
    "    cmap = \"Pastel1\",\n",
    "    vmin = 0,\n",
    "    vmax = 1000\n",
    ")"
   ]
  },
  {
   "cell_type": "markdown",
   "metadata": {},
   "source": [
    "### 3. Menampilkan nilai pada tiap sel pada heatmap."
   ]
  },
  {
   "cell_type": "code",
   "execution_count": null,
   "metadata": {},
   "outputs": [],
   "source": [
    "plt.figure(figsize = [10, 10])\n",
    "sns.heatmap(\n",
    "    sns.load_dataset(\"flights\").pivot(\"year\", \"month\", \"passengers\"),\n",
    "    cmap = \"Pastel1\",\n",
    "    vmin = 0,\n",
    "    vmax = 1000,\n",
    "    annot = True\n",
    ")"
   ]
  },
  {
   "cell_type": "markdown",
   "metadata": {},
   "source": [
    "Pada heatmap diatas nilai ditiap selnya terlalu berdempetan, sehingga perlu resize!"
   ]
  },
  {
   "cell_type": "markdown",
   "metadata": {},
   "source": [
    "### 4. Resize heatmap."
   ]
  },
  {
   "cell_type": "markdown",
   "metadata": {},
   "source": [
    "> `plt.figure(figsize = [horizontal_size, vertical_size])`"
   ]
  },
  {
   "cell_type": "code",
   "execution_count": null,
   "metadata": {},
   "outputs": [],
   "source": [
    "plt.figure(figsize = [20, 20])\n",
    "sns.heatmap(\n",
    "    sns.load_dataset(\"flights\").pivot(\"year\", \"month\", \"passengers\"),\n",
    "    cmap = \"YlGnBu\",\n",
    "    vmin = 0,\n",
    "    vmax = 1000,\n",
    "    annot = True\n",
    ")"
   ]
  },
  {
   "cell_type": "markdown",
   "metadata": {},
   "source": [
    "### 5. Menampilkan garis diatara sell."
   ]
  },
  {
   "cell_type": "markdown",
   "metadata": {},
   "source": [
    "> `linewidths = [nilai_ketebalan_garis]`\n"
   ]
  },
  {
   "cell_type": "code",
   "execution_count": null,
   "metadata": {},
   "outputs": [],
   "source": [
    "plt.figure(figsize = [20, 20])\n",
    "sns.heatmap(\n",
    "    sns.load_dataset(\"flights\").pivot(\"year\", \"month\", \"passengers\"),\n",
    "    cmap = \"Pastel1\",\n",
    "    vmin = 0,\n",
    "    vmax = 1000,\n",
    "    annot = True,\n",
    "    linewidths = 3\n",
    ")"
   ]
  }
 ],
 "metadata": {
  "kernelspec": {
   "display_name": "Python 3.10.8 64-bit",
   "language": "python",
   "name": "python3"
  },
  "language_info": {
   "name": "python",
   "version": "3.10.8"
  },
  "orig_nbformat": 4,
  "vscode": {
   "interpreter": {
    "hash": "58837b1b657ea91009af8409fc244ae3b5ccf93ea980d6fb6b80adc5f697f4cc"
   }
  }
 },
 "nbformat": 4,
 "nbformat_minor": 2
}
