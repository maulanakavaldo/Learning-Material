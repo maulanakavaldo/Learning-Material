{
 "cells": [
  {
   "cell_type": "markdown",
   "metadata": {},
   "source": [
    "# Himpunan\n",
    "\n",
    "Sebagai pengantar materi mengenai probabilitas, perlu dipahami konsep mengenai himpunan. Himpunan merupakan elemen dasar yang sering dijumpai pada teori probabilitas."
   ]
  },
  {
   "cell_type": "markdown",
   "metadata": {},
   "source": [
    "## Himpunan / Set\n",
    "\n",
    "Himpunan dapat diartikan sebagai sekumpulan objek, contoh:\n",
    "* Himpunan Hewan = {anjing, kucing, elang, kakap,...}\n",
    "* Himpunan Varian Covid = {alpha, beta, delta, omicron}\n",
    "\n",
    "<center><img src=\"images/himpunan_1.PNG\" alt=\"Drawing\" style=\"width: 200px;\"/></center>"
   ]
  },
  {
   "cell_type": "markdown",
   "metadata": {},
   "source": [
    "## Notasi Himpunan\n",
    "\n",
    "* Penulisan himpunan digunakan kurung kurawal\n",
    "\n",
    "<center>$A = \\{1,2,3,4,5,6,7,\\ldots\\}$</center>\n",
    "\n",
    "* Himpunan dapat tidak memiliki isi.\n",
    "* Dinamakan himpunan kosong\n",
    "\n",
    "<center> $B = \\{\\}$ </center>\n",
    "<center> $B = \\emptyset$ </center>"
   ]
  },
  {
   "cell_type": "code",
   "execution_count": 1,
   "metadata": {},
   "outputs": [
    {
     "data": {
      "text/plain": [
       "set"
      ]
     },
     "execution_count": 1,
     "metadata": {},
     "output_type": "execute_result"
    }
   ],
   "source": [
    "# Himpunan dengan isi 1 s.d. 7\n",
    "A = {1,2,3,4,5,6,7}\n",
    "type(A)"
   ]
  },
  {
   "cell_type": "code",
   "execution_count": 2,
   "metadata": {},
   "outputs": [
    {
     "data": {
      "text/plain": [
       "set"
      ]
     },
     "execution_count": 2,
     "metadata": {},
     "output_type": "execute_result"
    }
   ],
   "source": [
    "# Himpunan kosong\n",
    "B = set()\n",
    "type(B)"
   ]
  },
  {
   "cell_type": "markdown",
   "metadata": {},
   "source": [
    "Set dalam Python:"
   ]
  },
  {
   "cell_type": "code",
   "execution_count": 3,
   "metadata": {},
   "outputs": [],
   "source": [
    "hewan = {'kucing','sapi','lele', 'ulat', 'ayam'}"
   ]
  },
  {
   "cell_type": "markdown",
   "metadata": {},
   "source": [
    "Elemen dalam sebuah set tidak bisa duplikat"
   ]
  },
  {
   "cell_type": "code",
   "execution_count": 4,
   "metadata": {},
   "outputs": [
    {
     "data": {
      "text/plain": [
       "{'ayam', 'kucing', 'lele', 'sapi', 'ulat'}"
      ]
     },
     "execution_count": 4,
     "metadata": {},
     "output_type": "execute_result"
    }
   ],
   "source": [
    "hewan = {'kucing', 'kucing','sapi','lele', 'ulat', 'ayam'}\n",
    "hewan"
   ]
  },
  {
   "cell_type": "markdown",
   "metadata": {},
   "source": [
    "Set tidak memperhatikan urutan"
   ]
  },
  {
   "cell_type": "code",
   "execution_count": 5,
   "metadata": {},
   "outputs": [
    {
     "data": {
      "text/plain": [
       "{'ayam', 'kucing', 'lele', 'sapi', 'ulat'}"
      ]
     },
     "execution_count": 5,
     "metadata": {},
     "output_type": "execute_result"
    }
   ],
   "source": [
    "hewan = {'ulat', 'ayam', 'kucing','sapi','lele'}\n",
    "hewan"
   ]
  },
  {
   "cell_type": "markdown",
   "metadata": {},
   "source": [
    "### Elemen pada Himpunan\n",
    "\n",
    "* Misal terdapat sebuah himpunan nama hari\n",
    "\n",
    "<center> $Hari = \\{Senin, Selasa, Rabu, Kamis, Jumat, Sabtu, Minggu\\}$ </center>\n",
    "\n",
    "* Hari `Senin` merupakan anggota dari set `Hari`. Secara matematis dapat ditulis\n",
    "\n",
    "<center> $Senin \\in Hari$ </center>\n",
    "\n",
    "* Namun `Januari` bukan merupakan anggota dari set `Hari`.\n",
    "\n",
    "<center> $Januari \\notin Hari$ </center>"
   ]
  },
  {
   "cell_type": "code",
   "execution_count": 6,
   "metadata": {},
   "outputs": [],
   "source": [
    "Hari = {'Senin','Selasa','Rabu','Kamis','Jumat','Sabtu','Minggu'}"
   ]
  },
  {
   "cell_type": "code",
   "execution_count": 7,
   "metadata": {},
   "outputs": [
    {
     "data": {
      "text/plain": [
       "True"
      ]
     },
     "execution_count": 7,
     "metadata": {},
     "output_type": "execute_result"
    }
   ],
   "source": [
    "'Senin' in Hari"
   ]
  },
  {
   "cell_type": "code",
   "execution_count": 8,
   "metadata": {},
   "outputs": [
    {
     "data": {
      "text/plain": [
       "False"
      ]
     },
     "execution_count": 8,
     "metadata": {},
     "output_type": "execute_result"
    }
   ],
   "source": [
    "'Januari' in Hari"
   ]
  },
  {
   "cell_type": "markdown",
   "metadata": {},
   "source": [
    "## Mengakses Elemen Set\n",
    "\n",
    "Elemen pada set tidak bisa diakses menggunakan indeks karena disimpan berdasar urutan. Elemen pada list dapat diakses dengan cara looping."
   ]
  },
  {
   "cell_type": "code",
   "execution_count": 9,
   "metadata": {},
   "outputs": [
    {
     "name": "stdout",
     "output_type": "stream",
     "text": [
      "mangga\n",
      "jeruk\n",
      "apel\n"
     ]
    }
   ],
   "source": [
    "fruit_set = {'apel', 'jeruk', 'mangga'}\n",
    "\n",
    "for fruit in fruit_set:\n",
    "    print(fruit)"
   ]
  },
  {
   "cell_type": "markdown",
   "metadata": {},
   "source": [
    "### Menambah Elemen Baru\n",
    "\n",
    "Untuk menambah elemen pada set kita dapat menggunakan perintah add()"
   ]
  },
  {
   "cell_type": "code",
   "execution_count": 10,
   "metadata": {},
   "outputs": [
    {
     "data": {
      "text/plain": [
       "{1, 2, 3, 5}"
      ]
     },
     "execution_count": 10,
     "metadata": {},
     "output_type": "execute_result"
    }
   ],
   "source": [
    "basic_set = {1,2,3}\n",
    "basic_set.add(5)\n",
    "basic_set"
   ]
  },
  {
   "cell_type": "markdown",
   "metadata": {},
   "source": [
    "### Menghapus elemen\n",
    "\n",
    "Untuk mengurangi elemen pada list, ada 2 perintah yang dapat kita gunakan:\n",
    "\n",
    "* `remove()`\n",
    "* `discard()`"
   ]
  },
  {
   "cell_type": "code",
   "execution_count": 11,
   "metadata": {},
   "outputs": [
    {
     "data": {
      "text/plain": [
       "{1, 2, 4}"
      ]
     },
     "execution_count": 11,
     "metadata": {},
     "output_type": "execute_result"
    }
   ],
   "source": [
    "basic_set = {1,2,3,4,5}\n",
    "basic_set.remove(3)\n",
    "basic_set.discard(5)\n",
    "basic_set"
   ]
  },
  {
   "cell_type": "markdown",
   "metadata": {},
   "source": [
    "Kelebihan jika menggunakan discard adalah tidak ada error jika elemen yang ingin dihilangkan tidak ada pada set"
   ]
  },
  {
   "cell_type": "code",
   "execution_count": 12,
   "metadata": {},
   "outputs": [
    {
     "ename": "KeyError",
     "evalue": "7",
     "output_type": "error",
     "traceback": [
      "\u001b[1;31m---------------------------------------------------------------------------\u001b[0m",
      "\u001b[1;31mKeyError\u001b[0m                                  Traceback (most recent call last)",
      "Cell \u001b[1;32mIn [12], line 2\u001b[0m\n\u001b[0;32m      1\u001b[0m basic_set \u001b[39m=\u001b[39m {\u001b[39m1\u001b[39m,\u001b[39m2\u001b[39m,\u001b[39m3\u001b[39m,\u001b[39m4\u001b[39m,\u001b[39m5\u001b[39m}\n\u001b[1;32m----> 2\u001b[0m basic_set\u001b[39m.\u001b[39;49mremove(\u001b[39m7\u001b[39;49m)\n",
      "\u001b[1;31mKeyError\u001b[0m: 7"
     ]
    }
   ],
   "source": [
    "basic_set = {1,2,3,4,5}\n",
    "basic_set.remove(7)    # Error karena 7 tidak ada pada set"
   ]
  },
  {
   "cell_type": "code",
   "execution_count": 13,
   "metadata": {},
   "outputs": [],
   "source": [
    "basic_set = {1,2,3,4,5}\n",
    "basic_set.discard(7)    # Tidak ada error"
   ]
  },
  {
   "cell_type": "markdown",
   "metadata": {},
   "source": [
    "### Menghitung Jumlah Elemen"
   ]
  },
  {
   "cell_type": "markdown",
   "metadata": {},
   "source": [
    "Notasi Jumlah Elemen:\n",
    "\n",
    "<center> $Hari = \\{Senin, Selasa, Rabu, Kamis, Jumat, Sabtu, Minggu\\}$ </center>\n",
    "<center> $|Hari| = 7$ </center>"
   ]
  },
  {
   "cell_type": "code",
   "execution_count": 14,
   "metadata": {},
   "outputs": [
    {
     "data": {
      "text/plain": [
       "{'Jumat', 'Kamis', 'Minggu', 'Rabu', 'Sabtu', 'Selasa', 'Senin'}"
      ]
     },
     "execution_count": 14,
     "metadata": {},
     "output_type": "execute_result"
    }
   ],
   "source": [
    "Hari"
   ]
  },
  {
   "cell_type": "code",
   "execution_count": 15,
   "metadata": {},
   "outputs": [
    {
     "data": {
      "text/plain": [
       "7"
      ]
     },
     "execution_count": 15,
     "metadata": {},
     "output_type": "execute_result"
    }
   ],
   "source": [
    "len(Hari)"
   ]
  },
  {
   "cell_type": "code",
   "execution_count": 16,
   "metadata": {},
   "outputs": [
    {
     "data": {
      "text/plain": [
       "{'ayam', 'kucing', 'lele', 'sapi', 'ulat'}"
      ]
     },
     "execution_count": 16,
     "metadata": {},
     "output_type": "execute_result"
    }
   ],
   "source": [
    "hewan"
   ]
  },
  {
   "cell_type": "code",
   "execution_count": 17,
   "metadata": {},
   "outputs": [
    {
     "data": {
      "text/plain": [
       "5"
      ]
     },
     "execution_count": 17,
     "metadata": {},
     "output_type": "execute_result"
    }
   ],
   "source": [
    "len(hewan)"
   ]
  },
  {
   "cell_type": "markdown",
   "metadata": {},
   "source": [
    "## Diagram Venn\n",
    "\n",
    "Diagram yang digunakan untuk menunjukkan relasi antar himpunan/set.\n",
    "\n",
    "Contoh:\n",
    "\n",
    "<center><img src=\"images/himpunan_2.PNG\" alt=\"Drawing\" style=\"width: 500px;\"/></center>"
   ]
  },
  {
   "cell_type": "markdown",
   "metadata": {},
   "source": [
    "## Operasi Himpunan / Set"
   ]
  },
  {
   "cell_type": "markdown",
   "metadata": {},
   "source": [
    "### Intersection\n",
    "\n",
    "Fungsi `intesection()` digunakan untuk menghasilkan set baru yang berisi elemen yang sama dari kedua set"
   ]
  },
  {
   "cell_type": "code",
   "execution_count": 18,
   "metadata": {},
   "outputs": [
    {
     "name": "stdout",
     "output_type": "stream",
     "text": [
      "{3, 4}\n",
      "{3, 4}\n"
     ]
    }
   ],
   "source": [
    "x_set = {1,2,3,4}\n",
    "y_set = {3,4,5,6,7}\n",
    "\n",
    "print(x_set.intersection(y_set))\n",
    "print(y_set.intersection(x_set))"
   ]
  },
  {
   "cell_type": "code",
   "execution_count": 19,
   "metadata": {},
   "outputs": [
    {
     "data": {
      "text/plain": [
       "{3, 4}"
      ]
     },
     "execution_count": 19,
     "metadata": {},
     "output_type": "execute_result"
    }
   ],
   "source": [
    "x_set & y_set"
   ]
  },
  {
   "cell_type": "code",
   "execution_count": 20,
   "metadata": {},
   "outputs": [
    {
     "data": {
      "text/plain": [
       "{3, 4}"
      ]
     },
     "execution_count": 20,
     "metadata": {},
     "output_type": "execute_result"
    }
   ],
   "source": [
    "y_set & x_set"
   ]
  },
  {
   "cell_type": "markdown",
   "metadata": {},
   "source": [
    "### Union\n",
    "\n",
    "Fungsi `union()` digunakan untuk menghasilkan set yang merupakan menggabungkan dari kedua set"
   ]
  },
  {
   "cell_type": "code",
   "execution_count": 21,
   "metadata": {},
   "outputs": [
    {
     "name": "stdout",
     "output_type": "stream",
     "text": [
      "{1, 2, 3, 4, 5, 6, 7}\n",
      "{1, 2, 3, 4, 5, 6, 7}\n"
     ]
    }
   ],
   "source": [
    "x_set = {1,2,3,4}\n",
    "y_set = {3,4,5,6,7}\n",
    "\n",
    "print(x_set.union(y_set))\n",
    "print(y_set.union(x_set))"
   ]
  },
  {
   "cell_type": "code",
   "execution_count": 22,
   "metadata": {},
   "outputs": [
    {
     "data": {
      "text/plain": [
       "{1, 2, 3, 4, 5, 6, 7}"
      ]
     },
     "execution_count": 22,
     "metadata": {},
     "output_type": "execute_result"
    }
   ],
   "source": [
    "x_set | y_set"
   ]
  },
  {
   "cell_type": "code",
   "execution_count": 23,
   "metadata": {},
   "outputs": [
    {
     "data": {
      "text/plain": [
       "{1, 2, 3, 4, 5, 6, 7}"
      ]
     },
     "execution_count": 23,
     "metadata": {},
     "output_type": "execute_result"
    }
   ],
   "source": [
    "y_set | x_set"
   ]
  },
  {
   "cell_type": "markdown",
   "metadata": {},
   "source": [
    "### Difference / Komplemen\n",
    "\n",
    "Fungsi `diffence()` digunakan untuk menghasilkan set baru yang terdiri dari elemen yang tidak ada pada set lain\n",
    "\n",
    "<center><img src=\"images/set_difference.jpg\" alt=\"Drawing\" style=\"width: 300px;\"/></center>"
   ]
  },
  {
   "cell_type": "code",
   "execution_count": 24,
   "metadata": {},
   "outputs": [
    {
     "name": "stdout",
     "output_type": "stream",
     "text": [
      "{1, 2}\n",
      "{5, 6, 7}\n"
     ]
    }
   ],
   "source": [
    "x_set = {1,2,3,4}\n",
    "y_set = {3,4,5,6,7}\n",
    "\n",
    "print(x_set.difference(y_set))\n",
    "print(y_set.difference(x_set))"
   ]
  },
  {
   "cell_type": "code",
   "execution_count": 25,
   "metadata": {},
   "outputs": [
    {
     "name": "stdout",
     "output_type": "stream",
     "text": [
      "{1, 2}\n",
      "{5, 6, 7}\n"
     ]
    }
   ],
   "source": [
    "print(x_set - y_set)\n",
    "print(y_set - x_set)"
   ]
  },
  {
   "cell_type": "markdown",
   "metadata": {},
   "source": [
    "### Subset & Superset\n",
    "\n",
    "* Jika memiliki dua set: misal A dan B\n",
    "* Set B adalah subset dari A jika semua elemen B ada di A\n",
    "\n",
    "<center> $A = \\{1,2,3,4,5,6,7\\}$ </center>\n",
    "<center> $B = \\{1,3,5,7\\}$ </center>\n",
    "<center> $B \\subset A$ </center>\n",
    "<center> $A \\supset B$ </center>\n",
    "\n",
    "<center><img src=\"images/himpunan_3.PNG\" alt=\"Drawing\" style=\"width: 400px;\"/></center>"
   ]
  },
  {
   "cell_type": "markdown",
   "metadata": {},
   "source": [
    "* `issubset()` mengecek apakah merupakan subset dari set lain\n",
    "* `isdisjoint()` mengecek apakah kedua set tidak memiliki elemen yang sama\n",
    "* `issuperset()` mengecek apakah set mengandung semua elemen set lain"
   ]
  },
  {
   "cell_type": "code",
   "execution_count": 26,
   "metadata": {},
   "outputs": [
    {
     "name": "stdout",
     "output_type": "stream",
     "text": [
      "True\n",
      "True\n",
      "True\n"
     ]
    }
   ],
   "source": [
    "A = {1,2,3,4,5,6,7}\n",
    "B = {1,3,5}\n",
    "C = {8,9,10}\n",
    "\n",
    "print(B.issubset(A))\n",
    "print(A.isdisjoint(C))\n",
    "print(A.issuperset(B))"
   ]
  }
 ],
 "metadata": {
  "kernelspec": {
   "display_name": "Python 3.10.8 64-bit",
   "language": "python",
   "name": "python3"
  },
  "language_info": {
   "codemirror_mode": {
    "name": "ipython",
    "version": 3
   },
   "file_extension": ".py",
   "mimetype": "text/x-python",
   "name": "python",
   "nbconvert_exporter": "python",
   "pygments_lexer": "ipython3",
   "version": "3.10.8"
  },
  "orig_nbformat": 4,
  "vscode": {
   "interpreter": {
    "hash": "58837b1b657ea91009af8409fc244ae3b5ccf93ea980d6fb6b80adc5f697f4cc"
   }
  }
 },
 "nbformat": 4,
 "nbformat_minor": 2
}
