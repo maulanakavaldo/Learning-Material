{
 "cells": [
  {
   "cell_type": "markdown",
   "metadata": {},
   "source": [
    "### **Data Visualization 9: Pairplot**."
   ]
  },
  {
   "cell_type": "code",
   "execution_count": null,
   "metadata": {},
   "outputs": [],
   "source": [
    "import matplotlib.pyplot as plt\n",
    "import seaborn as sns\n",
    "import pandas as pd"
   ]
  },
  {
   "cell_type": "markdown",
   "metadata": {},
   "source": [
    "# Apa itu Pairplot?"
   ]
  },
  {
   "cell_type": "markdown",
   "metadata": {},
   "source": [
    "Pairplot adalah salah satu tipe grafik 2 dimensi namun tidak hanya ada 1 dan tipe plotnya bisa bermacam-macam. Semua *x-axis* grafik pairplot pada satu kolom memiliki definisi yang sama, begitu pula dengan *y-axis*, *y-axis* grafik pairplot pada satu baris memliki definisi yang sama."
   ]
  },
  {
   "cell_type": "code",
   "execution_count": null,
   "metadata": {},
   "outputs": [],
   "source": [
    "sns.pairplot(\n",
    "    data = sns.load_dataset(\"flights\")\n",
    ")"
   ]
  },
  {
   "cell_type": "markdown",
   "metadata": {},
   "source": [
    "Pairplot umum digunakan saat kita mempunyai suatu data dengan jumlah variable atau kolom yang > 2 dan kita ingin melihat bagaimana korelasi antar variable tersebut, contoh use-cases:\n",
    "- Melihat korelasi antara budget marketing spending pada channel atau medium iklan dengan jumlah sales.\n",
    "- Membandingkan dan melihat pola atau behavior belanja dari customers.\n",
    "- dll."
   ]
  },
  {
   "cell_type": "markdown",
   "metadata": {},
   "source": [
    "# Bagaimana membuatnya?"
   ]
  },
  {
   "cell_type": "markdown",
   "metadata": {},
   "source": [
    "Sekilas mengenai **Seaborn** dan **Matplotlib**: <br>\n",
    "**Seaborn** adalah library visualisasi data selayaknya **Matplotlib**, **Seaborn** dibangun berdasarkan **Matplotlib** sehingga memiliki kelebihan yaitu lebih *friendly* untuk digunakan. <br>"
   ]
  },
  {
   "cell_type": "markdown",
   "metadata": {},
   "source": [
    "Sintaks membuat **pairplot** pada seaborn adalah sebagai berikut: <br>\n",
    "> `sns.pairplot(data = DataFrame)` <br>\n",
    "<br>\n",
    "> **data**: berupa DataFrame yang mana terdiri dari kolom dan baris, kolomnya harus merupakan jenis observasi atau variable dan barisnya adalah observasinya. <br>\n",
    "\n",
    "\n",
    "Agar bisa tampil pada **pairplot** maka data observasinya harus bertipe numerikal bukan kategorikal."
   ]
  },
  {
   "cell_type": "code",
   "execution_count": null,
   "metadata": {},
   "outputs": [],
   "source": [
    "sns.load_dataset(\"flights\").head(24)"
   ]
  },
  {
   "cell_type": "markdown",
   "metadata": {},
   "source": [
    "Contoh pada DataFrame diatas terlihat bahwa **month** bukanlah bertipe numerikal dan yang lain secara visual bertipe numerikal, Jika demikian maka yang akan tampil hanya kolom **year** dan kolom **passenger**. Namun ada walkaround yang dapat dilakukan, yaitu melakukan encoding pada data pada kolom **month** ke dalam coding numerikal. Dengan begini maka kolom **month** dapat tampil pada **pairplot**.<br>"
   ]
  },
  {
   "cell_type": "code",
   "execution_count": null,
   "metadata": {},
   "outputs": [],
   "source": [
    "sns.pairplot(\n",
    "    data = sns.load_dataset(\"flights\")\n",
    ")"
   ]
  },
  {
   "cell_type": "markdown",
   "metadata": {},
   "source": [
    "Sekarang kita coba untuk encoding data pada kolom **month** ke coding numerikal."
   ]
  },
  {
   "cell_type": "code",
   "execution_count": null,
   "metadata": {},
   "outputs": [],
   "source": [
    "dataset = sns.load_dataset(\"flights\").copy()\n",
    "dataset[\"month_encoded\"] = dataset[\"month\"].map(dataset.assign(month_map = lambda x: x[\"month\"].astype(\"category\").cat.codes).drop_duplicates(\"month\").drop(columns = [\"year\", \"passengers\"]).set_index(\"month\").to_dict()[\"month_map\"]).astype(int)"
   ]
  },
  {
   "cell_type": "code",
   "execution_count": null,
   "metadata": {},
   "outputs": [],
   "source": [
    "sns.pairplot(\n",
    "    data = dataset\n",
    ")"
   ]
  },
  {
   "cell_type": "markdown",
   "metadata": {},
   "source": [
    "Sekarang kita sudah mendapatkan insight baru dari tampilnya data **month** ini. <br>\n",
    "<br>\n",
    "Lalu bagaimana jika datanya tadi yang dimasukkan ke fungsi **pairplot** bukan DataFrame?"
   ]
  },
  {
   "cell_type": "code",
   "execution_count": null,
   "metadata": {},
   "outputs": [],
   "source": [
    "dataset_dict = dataset.to_dict()"
   ]
  },
  {
   "cell_type": "code",
   "execution_count": null,
   "metadata": {},
   "outputs": [],
   "source": [
    "type(dataset_dict)"
   ]
  },
  {
   "cell_type": "code",
   "execution_count": 1,
   "metadata": {},
   "outputs": [
    {
     "ename": "NameError",
     "evalue": "name 'dataset_dict' is not defined",
     "output_type": "error",
     "traceback": [
      "\u001b[1;31m---------------------------------------------------------------------------\u001b[0m",
      "\u001b[1;31mNameError\u001b[0m                                 Traceback (most recent call last)",
      "Cell \u001b[1;32mIn [1], line 1\u001b[0m\n\u001b[1;32m----> 1\u001b[0m dataset_dict\n",
      "\u001b[1;31mNameError\u001b[0m: name 'dataset_dict' is not defined"
     ]
    }
   ],
   "source": [
    "dataset_dict"
   ]
  },
  {
   "cell_type": "code",
   "execution_count": null,
   "metadata": {},
   "outputs": [],
   "source": [
    "sns.pairplot(\n",
    "    data = dataset_dict\n",
    ")"
   ]
  },
  {
   "cell_type": "markdown",
   "metadata": {},
   "source": [
    "# Apa saja yang bisa dilakukan dengan Pairplot?"
   ]
  },
  {
   "cell_type": "markdown",
   "metadata": {},
   "source": [
    "1. Menyesuaikan grafik pada bagian diagonal. <br>\n",
    "Sering kali kita melihat secara singkat grafik bagian diagonal dari **pairplot** tidak *make sense*, seperti pada **pairplot** sebelumnya pada kolom **year** vs **year** terutama dibagian *y-axis*nya. <br>\n",
    "Apa maksudnya data pada tahun 1950 (*x-axis*) nilainya adalah 1958 (*y-axis*)? <br>\n",
    "Sayangnya grafik tersebut merupakan grafik distribusi yang mana terdapat istilah *bins* atau pengelompokan pada tampilannya, hal ini disayangkan karena jika tidak benar maka akan berpengaruh terhadap tampilannya. <br>\n",
    "<br>\n",
    "Solusinya bagaimana? <br>\n",
    "Solusinya adalah dengan memberikan nilai *bins* yang benar."
   ]
  },
  {
   "cell_type": "code",
   "execution_count": null,
   "metadata": {},
   "outputs": [],
   "source": [
    "sns.pairplot(\n",
    "    data = dataset\n",
    ")"
   ]
  },
  {
   "cell_type": "code",
   "execution_count": null,
   "metadata": {},
   "outputs": [],
   "source": [
    "sns.pairplot(\n",
    "    data = dataset,\n",
    "    diag_kws = {\"bins\" : 12, \"kde\" : True}\n",
    ")"
   ]
  },
  {
   "cell_type": "code",
   "execution_count": null,
   "metadata": {},
   "outputs": [],
   "source": [
    "dataset[\"year\"].value_counts()"
   ]
  },
  {
   "cell_type": "markdown",
   "metadata": {},
   "source": [
    "Ya betul, semua tahun atau **year** memiliki jumlah yang sama karena 1 tahun ada 12 bulan dan kebetulan memang record datanya tidak ada yang bolong. <br>\n",
    "Pemilihan nilai **bins** yang benar ini cukup tricky ya, semakin banyak sampai ke tiap data point itu bisa tapi membuat banyak *noise* muncul sedangkan semakin sedikit itu juga bisa tapi membuat grafiknya tidak lagi berguna karena tidak bisa memberikan informasi apa-apa. <br> <br>\n",
    "Umumnya pemilihan nilai **bins** dengan menggunakan nilai **akar dari jumlah observasi**, dalam kasus ini akar dari 144 adalah 12. Jadi kita menggunakan 12 sebagai nilai **bins**."
   ]
  },
  {
   "cell_type": "markdown",
   "metadata": {},
   "source": [
    "2. Kita akan memberikan *Legend* atau akan kita \"pisah\"kan data tersebut berdasarkan bulan."
   ]
  },
  {
   "cell_type": "code",
   "execution_count": null,
   "metadata": {},
   "outputs": [],
   "source": [
    "sns.pairplot(\n",
    "    data = dataset,\n",
    "    hue = \"month\",\n",
    ")"
   ]
  },
  {
   "cell_type": "markdown",
   "metadata": {},
   "source": [
    "Sayangnya dengan membedakan berdasarkan bulan malah membuatnya sulit dilihat dan dibaca, coba kita buang kolom **month_decoded** karena itu sama saja dengan **month**."
   ]
  },
  {
   "cell_type": "code",
   "execution_count": null,
   "metadata": {},
   "outputs": [],
   "source": [
    "sns.pairplot(\n",
    "    data = dataset,\n",
    "    vars = [\"year\", \"passengers\"],\n",
    "    hue = \"month\"\n",
    ")"
   ]
  },
  {
   "cell_type": "markdown",
   "metadata": {},
   "source": [
    "3. Seperti biasa kalian dapat membuat plotnya lebih besar dengan menggunakan parameter:\n",
    "> `height = nilai height dalam int` <br>\n",
    "<br>"
   ]
  },
  {
   "cell_type": "code",
   "execution_count": null,
   "metadata": {},
   "outputs": [],
   "source": [
    "sns.pairplot(\n",
    "    data = dataset,\n",
    "    vars = [\"year\", \"passengers\"],\n",
    "    hue = \"month\",\n",
    "    height = 8\n",
    ")"
   ]
  },
  {
   "cell_type": "markdown",
   "metadata": {},
   "source": [
    "4. Kemudian kalian juga dapat mengganti warnanya."
   ]
  },
  {
   "cell_type": "code",
   "execution_count": null,
   "metadata": {},
   "outputs": [],
   "source": [
    "sns.pairplot(\n",
    "    data = dataset,\n",
    "    vars = [\"year\", \"passengers\"],\n",
    "    hue = \"month\",\n",
    "    height = 8,\n",
    "    palette = \"viridis\"\n",
    ")"
   ]
  },
  {
   "cell_type": "code",
   "execution_count": null,
   "metadata": {},
   "outputs": [],
   "source": [
    "sns.pairplot(\n",
    "    data = dataset,\n",
    "    hue = \"month\",\n",
    "    height = 8,\n",
    "    palette = \"viridis\"\n",
    ")"
   ]
  }
 ],
 "metadata": {
  "kernelspec": {
   "display_name": "Python 3.10.8 64-bit",
   "language": "python",
   "name": "python3"
  },
  "language_info": {
   "codemirror_mode": {
    "name": "ipython",
    "version": 3
   },
   "file_extension": ".py",
   "mimetype": "text/x-python",
   "name": "python",
   "nbconvert_exporter": "python",
   "pygments_lexer": "ipython3",
   "version": "3.10.8"
  },
  "orig_nbformat": 4,
  "vscode": {
   "interpreter": {
    "hash": "58837b1b657ea91009af8409fc244ae3b5ccf93ea980d6fb6b80adc5f697f4cc"
   }
  }
 },
 "nbformat": 4,
 "nbformat_minor": 2
}
