{
 "cells": [
  {
   "cell_type": "markdown",
   "metadata": {},
   "source": [
    "### **Data Visualization 10: EDA**."
   ]
  },
  {
   "cell_type": "code",
   "execution_count": null,
   "metadata": {},
   "outputs": [],
   "source": [
    "import matplotlib.pyplot as plt\n",
    "import seaborn as sns\n",
    "import pandas as pd"
   ]
  },
  {
   "cell_type": "markdown",
   "metadata": {},
   "source": [
    "# Apa itu Lineplot?"
   ]
  },
  {
   "cell_type": "markdown",
   "metadata": {},
   "source": [
    "line plot adalah salah satu tipe grafik 2 dimensi yang mana menggunakan garis untuk menggambarkan dan membandingkan suatu kelompok nilai numerik."
   ]
  },
  {
   "cell_type": "code",
   "execution_count": null,
   "metadata": {},
   "outputs": [],
   "source": [
    "plt.figure(figsize = [10, 10])\n",
    "sns.lineplot(\n",
    "    x = sns.load_dataset(\"flights\").query(\"year == 1960\")[\"month\"],\n",
    "    y = sns.load_dataset(\"flights\").query(\"year == 1960\")[\"passengers\"]\n",
    ")\n"
   ]
  },
  {
   "cell_type": "markdown",
   "metadata": {},
   "source": [
    "Lineplot umum digunakan saat kita mempunyai suatu data time series dan kita ingin melihat pola tren dan/atau seasonality, contoh use-cases:\n",
    "- Melihat jumlah visitor website over the time.\n",
    "- Membandingkan dan melihat pola penjualan dalam kurun waktu tertentu.\n",
    "- dll."
   ]
  },
  {
   "cell_type": "markdown",
   "metadata": {},
   "source": [
    "# Bagaimana membuatnya?"
   ]
  },
  {
   "cell_type": "markdown",
   "metadata": {},
   "source": [
    "Sekilas mengenai **Seaborn** dan **Matplotlib**: <br>\n",
    "**Seaborn** adalah library visualisasi data selayaknya **Matplotlib**, **Seaborn** dibangun berdasarkan **Matplotlib** sehingga memiliki kelebihan yaitu lebih *friendly* untuk digunakan. <br>"
   ]
  },
  {
   "cell_type": "markdown",
   "metadata": {},
   "source": [
    "Sintaks membuat lineplot pada seaborn adalah sebagai berikut: <br>\n",
    "> `sns.lineplot(x = data_x_axis, y = data_y_axis)` <br>\n",
    "<br>\n",
    "> **x**: berupa data kategorikal maupun numerikal yang akan mengelompokkan data pada *y axis*. Paling tepat digunakan pada data time series. <br>\n",
    "> **y**: berupa data numerkal baik diskrit maupun kontinu yang dikelompokkan oleh data pada *x axis*. Tidak dianjurkan data kategorikal karena tidak sesuai dengan tujuan dari lineplot yang untuk melihat pola dari suatu data numerkal timeseries.<br>\n",
    "> <br>"
   ]
  },
  {
   "cell_type": "code",
   "execution_count": null,
   "metadata": {},
   "outputs": [],
   "source": [
    "sns.load_dataset(\"flights\").head(24)"
   ]
  },
  {
   "cell_type": "markdown",
   "metadata": {},
   "source": [
    "Contoh pada DataFrame diatas terlihat bahwa passengers dapat dikelompokkan berdasarkan **year** dan **month** yang mana kolom tersebut sebetulnya adalah data timeseries, sehingga salah satu dari kedua kolom tersebut yang dapat dimasukkan ke *x-axis* sedangkan kolom **passengers** atau kolom yang dikelompokkan harus bertipe data numerikal dan dapat dimasukkan ke *y-axis*. <br>\n",
    "<br>\n",
    "Bagaimana jika terbalik?"
   ]
  },
  {
   "cell_type": "code",
   "execution_count": null,
   "metadata": {},
   "outputs": [],
   "source": [
    "plt.figure(figsize = [10, 10])\n",
    "sns.lineplot(\n",
    "    x = sns.load_dataset(\"flights\")[\"passengers\"],\n",
    "    y = sns.load_dataset(\"flights\")[\"year\"]\n",
    ")"
   ]
  },
  {
   "cell_type": "markdown",
   "metadata": {},
   "source": [
    "Jika terbalik maka lineplot tidak akan berguna. Kita tidak dapat apapun dari lineplot tersebut. <br>"
   ]
  },
  {
   "cell_type": "markdown",
   "metadata": {},
   "source": [
    "# Apa saja yang bisa dilakukan dengan lineplot?"
   ]
  },
  {
   "cell_type": "markdown",
   "metadata": {},
   "source": [
    "1. Dapatkan 95% Confidence Interval pada grafik anda.\n",
    "Bagimana caranya?\n",
    "Cukup masukkan semua data tanpa difilter apapun, seperti contoh disini tidak di filter oleh **year**."
   ]
  },
  {
   "cell_type": "code",
   "execution_count": null,
   "metadata": {},
   "outputs": [],
   "source": [
    "dataset = sns.load_dataset(\"flights\").copy()\n",
    "plt.figure(figsize = [10, 10])\n",
    "sns.lineplot(\n",
    "    x = dataset[\"month\"],\n",
    "    y = dataset[\"passengers\"]\n",
    ")"
   ]
  },
  {
   "cell_type": "markdown",
   "metadata": {},
   "source": [
    "2. Ada style lain? Ya ada, mungkin kelian ingin pakai error style bar instead of area.\n",
    "Bagaimana caranya?\n",
    "Tambahkan saja parameter berikut:\n",
    "> `err_style = \"bars\"` <br>\n",
    "\n",
    "\n",
    "Kalian juga bisa menentukan error tersebut mau berdasarkan CI berapa persen?\n",
    "Caranya?\n",
    "Tambahkan saja parameter berikut:\n",
    "> `ci = nilai confidence interval yang dikehendaki` <br>"
   ]
  },
  {
   "cell_type": "code",
   "execution_count": null,
   "metadata": {},
   "outputs": [],
   "source": [
    "plt.figure(figsize = [10, 10])\n",
    "sns.lineplot(\n",
    "    x = dataset[\"month\"],\n",
    "    y = dataset[\"passengers\"],\n",
    "    err_style = \"bars\",\n",
    "    ci = 10\n",
    ")"
   ]
  },
  {
   "cell_type": "markdown",
   "metadata": {},
   "source": [
    "3. Plot semua data, tidak hanya 1 bagian, dalam 1 plot yang sama dan dengan warna yang berbeda-beda.\n",
    "Bagaimana caranya?\n",
    "Cukup tambahkan parameter:\n",
    "> `hue = kolom yang grouping *y-axis* anda` <br>\n"
   ]
  },
  {
   "cell_type": "code",
   "execution_count": null,
   "metadata": {},
   "outputs": [],
   "source": [
    "plt.figure(figsize = [10, 10])\n",
    "sns.lineplot(\n",
    "    x = dataset[\"month\"],\n",
    "    y = dataset[\"passengers\"],\n",
    "    hue = dataset[\"year\"]\n",
    ")"
   ]
  },
  {
   "cell_type": "markdown",
   "metadata": {},
   "source": [
    "Pilihan lain selain warnanya yang berbeda?\n",
    "1. Ketebalan yang berbeda.\n",
    "2. Jenis garisnya yang berbeda.\n",
    "\n",
    "Caranya?\n",
    "Ganti parameter **hue** dengan **size** untuk nomor 1 dan **style** untuk nomor 2."
   ]
  },
  {
   "cell_type": "code",
   "execution_count": null,
   "metadata": {},
   "outputs": [],
   "source": [
    "plt.figure(figsize = [10, 10])\n",
    "sns.lineplot(\n",
    "    x = dataset[\"month\"],\n",
    "    y = dataset[\"passengers\"],\n",
    "    size = dataset[\"year\"]\n",
    ")"
   ]
  },
  {
   "cell_type": "code",
   "execution_count": null,
   "metadata": {},
   "outputs": [],
   "source": [
    "plt.figure(figsize = [10, 10])\n",
    "sns.lineplot(\n",
    "    x = dataset[\"month\"],\n",
    "    y = dataset[\"passengers\"],\n",
    "    style = dataset[\"year\"]\n",
    ")"
   ]
  },
  {
   "cell_type": "markdown",
   "metadata": {},
   "source": [
    "4. Mengganti warna dari plot.\n",
    "Bagaimana caranya? \n",
    "Tambahkan saja parameter berikut:\n",
    "> `palette = nama palette` <br>\n",
    "\n",
    "\n",
    "Dapat dari mana nama palettenya? <br>\n",
    "https://matplotlib.org/stable/tutorials/colors/colormaps.html.\n"
   ]
  },
  {
   "cell_type": "code",
   "execution_count": null,
   "metadata": {},
   "outputs": [],
   "source": [
    "plt.figure(figsize = [10, 10])\n",
    "sns.lineplot(\n",
    "    x = dataset[\"month\"],\n",
    "    y = dataset[\"passengers\"],\n",
    "    hue = dataset[\"year\"],\n",
    "    size = dataset[\"year\"],\n",
    "    style = dataset[\"year\"],\n",
    "    palette = \"Pastel1\"\n",
    ")"
   ]
  }
 ],
 "metadata": {
  "kernelspec": {
   "display_name": "Python 3.10.8 64-bit",
   "language": "python",
   "name": "python3"
  },
  "language_info": {
   "name": "python",
   "version": "3.10.8"
  },
  "orig_nbformat": 4,
  "vscode": {
   "interpreter": {
    "hash": "58837b1b657ea91009af8409fc244ae3b5ccf93ea980d6fb6b80adc5f697f4cc"
   }
  }
 },
 "nbformat": 4,
 "nbformat_minor": 2
}
