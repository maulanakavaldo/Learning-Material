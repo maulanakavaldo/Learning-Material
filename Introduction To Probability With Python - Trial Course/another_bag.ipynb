{
 "cells": [
  {
   "cell_type": "markdown",
   "metadata": {},
   "source": [
    "# Another Bag Problems: M&Ms\n",
    "Berikut adalah permasalahan probabilistik lainnya [dari](http://allendowney.blogspot.com/2011/10/my-favorite-bayess-theoremproblems.html) [Allen Downey ](http://allendowney.blogspot.com/):\n",
    "> Permen M&M biru diperkenalkan pada tahun 1995. Sebelum itu, campuran warna dari sekantong permen M&Ms adalah (30% Coklat, 20%\n",
    "Kuning, 20% Merah, 10% Hijau, 10% Oranye, 10% Coklat Muda). Setelahnya menjadi (24% Biru , 20% Hijau, 16% Oranya, 14% Kuning, 13%\n",
    "Merah, 13% Coklat).\n",
    "Seorang teman memiliki dua kantong M&Ms, dan dia berkata bahwa satu dari 1994 dan satu lagi dari 1996. Dia tidak memberitahu mana\n",
    "kantong yang dari 1994 dan 1996, Namun dia memberikan satu M&Ms dari tiap kantong. satu kuning dan yang satunya hijau. Berapa\n",
    "kemungkinan M&M kuning berasal dari kantong 1994?\n",
    "Untuk permasalahan ini, kita akan membuat distribusi tiap kantong: `bag94` and `bag96`:\n"
   ]
  },
  {
   "cell_type": "code",
   "execution_count": null,
   "metadata": {},
   "outputs": [],
   "source": [
    "###### Previous Functions ######\n",
    "import itertools\n",
    "from collections import Counter\n",
    "\n",
    "class Dist(Counter):\n",
    "    \"A Distribution of {outcome: frequency} pairs.\"\n",
    "def favorable(event, space):\n",
    "    \"A distribution of outcomes from the sample space that are in the event.\"\n",
    "    if callable(event):\n",
    "    event = {x for x in space if event(x)}\n",
    "    space = Dist(space)\n",
    "    return Dist({x: space[x]\n",
    "    for x in space if x in event})\n",
    "def Fraction(n, d): return n / d\n",
    "def cases(outcomes):\n",
    "    \"The total frequency of all the outcomes.\"\n",
    "    return sum(Dist(outcomes).values())\n",
    "def P(event, space):\n",
    "    \"The probability of an event, given a sample space.\"\n",
    "    return Fraction(cases(favorable(event, space)),\n",
    " cases(space))\n",
    "def at_least(n, item):\n",
    "    \"The event of getting at least n instances of item in an outcome.\"\n",
    "    return lambda outcome: outcome.count(item) >= n\n",
    "def joint(A, B, combine='{}{}'.format):\n",
    "    \"\"\"The joint distribution of two independent distributions.\n",
    "    Result is all entries of the form {'ab': frequency(a) * frequency(b)}\"\"\"\n",
    "    return Dist({combine(a, b): A[a] * B[b]\n",
    "    for a in A for b in B})\n"
   ]
  },
  {
   "cell_type": "markdown",
   "metadata": {},
   "source": [
    "bag94 = Dist(brown=30, yellow=20, red=20, green=10, orange=10, tan=10)\n",
    "bag96 = Dist(blue=24, green=20, orange=16, yellow=14, red=13, brown=13)\n"
   ]
  },
  {
   "cell_type": "markdown",
   "metadata": {},
   "source": [
    "Kita definisikan `MM` sebagai joint distribution &mdash;ruang sampel untuk mengambil satu M&M dari tiap kantong. Hasil `'94:yellow\n",
    "96:green'` berarti M&M kuning terpilih dari kantong 1994 dan M&M hijau dari kantong 1996."
   ]
  },
  {
   "cell_type": "markdown",
   "metadata": {},
   "source": [
    "MM = joint(bag94, bag96, '94:{} 96:{}'.format)\n",
    "MM\n"
   ]
  },
  {
   "cell_type": "markdown",
   "metadata": {},
   "source": [
    "Hasil yang kita observasi adalah \"satu kuning dan satunya hijau\":\n"
   ]
  },
  {
   "cell_type": "code",
   "execution_count": null,
   "metadata": {},
   "outputs": [],
   "source": [
    "def yellow_and_green(outcome): return 'yellow' in outcome and 'green' in outcome\n",
    "favorable(yellow_and_green, MM)\n"
   ]
  },
  {
   "cell_type": "markdown",
   "metadata": {},
   "source": [
    "Dari observasi ini, kita ingin tahu \"Berapa kemungkinan M&M kuning berasal dari kantong 1994?\"\n"
   ]
  },
  {
   "cell_type": "code",
   "execution_count": null,
   "metadata": {},
   "outputs": [],
   "source": [
    "def yellow94(outcome): return '94:yellow' in outcome\n",
    "P(yellow94, favorable(yellow_and_green, MM))"
   ]
  }
 ],
 "metadata": {
  "kernelspec": {
   "display_name": "Python 3.10.8 64-bit",
   "language": "python",
   "name": "python3"
  },
  "language_info": {
   "name": "python",
   "version": "3.10.8"
  },
  "orig_nbformat": 4,
  "vscode": {
   "interpreter": {
    "hash": "58837b1b657ea91009af8409fc244ae3b5ccf93ea980d6fb6b80adc5f697f4cc"
   }
  }
 },
 "nbformat": 4,
 "nbformat_minor": 2
}
