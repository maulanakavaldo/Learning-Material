{
 "cells": [
  {
   "cell_type": "markdown",
   "metadata": {},
   "source": [
    "# Simulasi\n",
    "\n",
    "Terkadang, untuk mendefinisikan sebuah ruang sampel menjadi sulit atau bahkan tidak memungkinkan. Misal, ruang sampelnya tidak terhingga, atau ruang sampelnya sangat besar dan rumit. Dalam kasus tersebut, akan lebih mudah jika kita menulis program untuk mensimulasikan hasilnya. *Random sampling* dari simulasi biasanya dapat memberikan estimasi yang akurat terhadap nilai probabilitasnya.\n",
    "\n",
    "# Mensimulasikan Monopoli\n",
    "\n",
    "![Mr. Monopoly](http://buckwolf.org/a.abcnews.com/images/Entertainment/ho_hop_go_050111_t.jpg)<center>[Mr. Monopoly](https://en.wikipedia.org/wiki/Rich_Uncle_Pennybags)<br>1940&mdash;\n",
    "\n",
    "Permasalahan berikut diadaptasi dari [problem 84](https://projecteuler.net/problem=84) [Project Euler](https://projecteuler.net) yang menanyakan probabilitas dari seorang pemain bisa berhenti di setiap kotak pada game. Untuk menjawab permasalahan ini kita perlu memasukkan faktir seperti lemparan dadu, kartu, dan masuk kedalam penjara (dari kotak \"go to jail\", dari kartu, atau melempar angka kembar tiga kali berturut-turut). Kita tidak perlu mempertimbangkan pembelian properti atau jumlah uang karena kejadian tersebut tidak mengubah lokasi pemain.\n",
    "    \n",
    "Permainan monoppoli dapat berjalan terus menerus, sehingga ruang sampelnya tidak terbatas. Bahkan jika kita membatasi ruang sampel sampai 1000 pelemparan, akan ada $21^{1000}$ lemparan dadu, belum lagi ditambah dengan kejadian karena efek kartu. Sehingga tidak memungkinkan untuk secara eksplisit merepresentasikan ruang sampel. Untuk menyelesaikan permasalahan ini terdapat beberapa cara seperti menggunakan representasi [Markov Decision Problem] (https://faculty.math.illinois.edu/~bishop/monopoly.pdf) dan menyelesaikannya. \n",
    "\n",
    "Namun, cara yang paling sederhana adalah melakukan simulasi dan menjalankannya sampai, misal, satu juta lemparan dadu. Berikut adalah code nya:"
   ]
  },
  {
   "cell_type": "code",
   "execution_count": null,
   "metadata": {},
   "outputs": [],
   "source": [
    "from collections import deque as Deck # a Deck of community chest or chance cards\n",
    "import random\n",
    "\n",
    "# The Monopoly board, as specified by https://projecteuler.net/problem=84\n",
    "(GO,   A1, CC1, A2,  T1, R1, B1,  CH1, B2, B3,\n",
    " JAIL, C1, U1,  C2,  C3, R2, D1,  CC2, D2, D3, \n",
    " FP,   E1, CH2, E2,  E3, R3, F1,  F2,  U2, F3, \n",
    " G2J,  G1, G2,  CC3, G3, R4, CH3, H1,  T2, H2) = board = range(40)\n",
    "\n",
    "# A card is either a square, a set of squares meaning advance to the nearest, \n",
    "# a -3 to go back 3 spaces, or None meaning no change to location.\n",
    "CC_deck = Deck([GO, JAIL] +  14 * [None])\n",
    "CH_deck = Deck([GO, JAIL, C1, E3, H2, R1, -3, {U1, U2}] \n",
    "               + 2 * [{R1, R2, R3, R4}] + 6 * [None])\n",
    "\n",
    "def monopoly(rolls):\n",
    "    \"\"\"Simulate given number of dice rolls of a Monopoly game, \n",
    "    and return the counts of how often each square is visited.\"\"\"\n",
    "    counts = [0] * len(board)\n",
    "    doubles = 0 # Number of consecutive doubles rolled\n",
    "    random.shuffle(CC_deck)\n",
    "    random.shuffle(CH_deck)\n",
    "    goto(GO)\n",
    "    for _ in range(rolls):\n",
    "        d1, d2 = random.randint(1, 6), random.randint(1, 6)\n",
    "        doubles = (doubles + 1 if d1 == d2 else 0)\n",
    "        goto(here + d1 + d2)\n",
    "        if here == G2J or doubles == 3:\n",
    "            goto(JAIL)\n",
    "            doubles = 0\n",
    "        elif here in (CC1, CC2, CC3):\n",
    "            do_card(CC_deck)\n",
    "        elif here in (CH1, CH2, CH3):\n",
    "            do_card(CH_deck)\n",
    "        counts[here] += 1\n",
    "    return counts\n",
    "\n",
    "def goto(square):\n",
    "    \"Update 'here' to be this square (and handle passing GO).\"\n",
    "    global here\n",
    "    here = square % len(board)        \n",
    "\n",
    "def do_card(deck):\n",
    "    \"Take the top card from deck and do what it says.\"\n",
    "    card = deck.popleft()       # The top card\n",
    "    deck.append(card)           # Move top card to bottom of deck\n",
    "    if card == None:            # Don't move\n",
    "        pass\n",
    "    elif card == -3:            # Go back 3 spaces\n",
    "        goto(here - 3)\n",
    "    elif isinstance(card, set): # Advance to next railroad or utility\n",
    "        next1 = min({place for place in card if place > here} or card)\n",
    "        goto(next1)\n",
    "    else:                       # Go to destination named on card\n",
    "        goto(card)"
   ]
  },
  {
   "cell_type": "markdown",
   "metadata": {},
   "source": [
    "Kita lakukan simulasi untuk satu juta kali lemparan dadu:"
   ]
  },
  {
   "cell_type": "code",
   "execution_count": null,
   "metadata": {},
   "outputs": [],
   "source": [
    "counts = monopoly(10**6)"
   ]
  },
  {
   "cell_type": "markdown",
   "metadata": {},
   "source": [
    "Dan print nama dari tiap kotak dan presentasenya:"
   ]
  },
  {
   "cell_type": "code",
   "execution_count": null,
   "metadata": {},
   "outputs": [],
   "source": [
    "property_names = \"\"\"\n",
    " GO,   A1, CC1, A2,  T1, R1, B1,  CH1, B2, B3,\n",
    " JAIL, C1, U1,  C2,  C3, R2, D1,  CC2, D2, D3, \n",
    " FP,   E1, CH2, E2,  E3, R3, F1,  F2,  U2, F3, \n",
    " G2J,  G1, G2,  CC3, G3, R4, CH3, H1,  T2, H2\"\"\".replace(',', ' ').split()\n",
    "\n",
    "for (c, n) in sorted(zip(counts, property_names), reverse=True):\n",
    "    print('{:4} {:.2%}'.format(n, c / sum(counts)))"
   ]
  },
  {
   "cell_type": "markdown",
   "metadata": {},
   "source": [
    "Terdapat satu kotak yang jauh diatas rata-rata: `JAIL`, yang berada pada angka 6%. Dan ada 4 kotak yang cukup jauh dibawah rata-rata: 3 kotak *Chances*, `CH1`, `CH2`, dan `CH3`, pada sekitar angka 1% (Karena 10 dari 16 kartu *Chance* memindahkan posisi pemain dari kotak tersebut), dan kotak \"Go to Jail\", yang memiliki frekuensi 0 karena kita tidak dapat mengakhiri putaran disana (otomatis terlempar ke penjara). Kotak lainnya adalah sekitar 2% sampai 3%, yang dimana sesuai dengan perkiraan kita, karena 100% / 40 = 2.5%."
   ]
  }
 ],
 "metadata": {
  "kernelspec": {
   "display_name": "Python 3.10.8 64-bit",
   "language": "python",
   "name": "python3"
  },
  "language_info": {
   "name": "python",
   "version": "3.10.8"
  },
  "orig_nbformat": 4,
  "vscode": {
   "interpreter": {
    "hash": "58837b1b657ea91009af8409fc244ae3b5ccf93ea980d6fb6b80adc5f697f4cc"
   }
  }
 },
 "nbformat": 4,
 "nbformat_minor": 2
}
