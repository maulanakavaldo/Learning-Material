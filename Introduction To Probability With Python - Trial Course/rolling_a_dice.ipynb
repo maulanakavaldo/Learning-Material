{
 "cells": [
  {
   "cell_type": "markdown",
   "metadata": {},
   "source": [
    "<div style=\"text-align: right\">Diadaptasi dan diterjemahkan dari Jupyter Notebook Peter Norvig</div> \n",
    "\n",
    "# Introduction to Probability using Python\n",
    "\n",
    "Pada tahun 1814, Pierre-Simon Laplace [menulis](https://en.wikipedia.org/wiki/Classical_definition_of_probability):\n",
    "\n",
    ">*Probability theory is nothing but common sense reduced to calculation. ... [Probability] is thus simply a fraction whose numerator is the number of favorable cases and whose denominator is the number of all the cases possible ... when nothing leads us to expect that any one of these cases should occur more than any other.*\n",
    "\n",
    "![Laplace](https://upload.wikimedia.org/wikipedia/commons/thumb/3/30/AduC_197_Laplace_%28P.S.%2C_marquis_de%2C_1749-1827%29.JPG/180px-AduC_197_Laplace_%28P.S.%2C_marquis_de%2C_1749-1827%29.JPG)\n",
    "<center><a href=\"https://en.wikipedia.org/wiki/Pierre-Simon_Laplace\">Pierre-Simon Laplace</a><br>1814</center>\n",
    "\n",
    "\n",
    "Untuk mempermudah menjawab permasalahan probabilitas, hal yang perlu dilakukan adalah mendefinsikan *event* atau kejadian apa tang terjadi, dan menghitung kejadian yang diinginkan terhadap seluruh kemungkinan kejadian. Beberapa istilah dalam probability:\n",
    "\n",
    "\n",
    "- **[Trial / Percobaan](https://en.wikipedia.org/wiki/Experiment_(probability_theory%29):**\n",
    "  Kejadian tunggal dengan hasil yang tidak kita ketahui secara pasti sampai dengan kita observasi hasilnya. \n",
    "  <br>*Contoh, pengocokan satu dadu.*\n",
    "- **[Outcome / Hasil / Luaran](https://en.wikipedia.org/wiki/Outcome_(probability%29):**\n",
    "  Hasil yang mungkin keluar dari percobaan; satu keadaan yang mungkin muncul. Ini yang disebut oleh Laplace sebagai **case.**\n",
    "  <br>*Contoh:* `4`.\n",
    "- **[Sample Space / Ruang Sampel](https://en.wikipedia.org/wiki/Sample_space):**\n",
    "  Himpunan dari semua hasil yang mungkin for the trial. \n",
    "  <br>*Contoh,* `{1, 2, 3, 4, 5, 6}`.\n",
    "- **[Event / Kejadian](https://en.wikipedia.org/wiki/Event_(probability_theory%29):**\n",
    "  Subset dari ruang sampel, himpunan dari luaran yang memiliki properti yang sama dengan hal yang kita inginkan.\n",
    "  <br>*Contoh, Kejadian \"dadu angka genap\" adalah himpunan yang berisi:* `{2, 4, 6}`. \n",
    "- **[Probability](https://en.wikipedia.org/wiki/Probability_theory):**\n",
    "  Probabilitas dari sebuah kejadian terhadap sebuah ruang sampel adalah \"jumlah dari kasus yang diinginkan\" (outcomes dari ruang sampel dalam event) dibagi dengan \"jumlah semua kasus\" dalam ruang sampel. Probabilitas akan selalu bernilai antara 0 (kejadian yang tidak mungkin) dan 1 (kejadian yang pasti).\n",
    "<br>*For example, the probability of an even die roll is 3/6 = 1/2.*"
   ]
  },
  {
   "cell_type": "markdown",
   "metadata": {},
   "source": [
    "# `P` adalah Probabilitas\n",
    "\n",
    "Kode di bawah ini mengimplementasikan Quote dari Laplace: *Probability is thus simply a fraction whose numerator is the number of favorable cases and whose denominator is the number of all the cases possible.*"
   ]
  },
  {
   "cell_type": "code",
   "execution_count": 1,
   "metadata": {},
   "outputs": [],
   "source": [
    "from fractions import Fraction\n",
    "\n",
    "def P(event, space): \n",
    "    \"The probability of an event, given a sample space.\"\n",
    "    favorable = set.intersection # Outcomes that are in the event and in the sample space\n",
    "    cases     = len              # The number of cases is the length, or size, of a set\n",
    "    return Fraction(cases(favorable(event, space)), \n",
    "                    cases(space))"
   ]
  },
  {
   "cell_type": "markdown",
   "metadata": {},
   "source": [
    " \n",
    "# Warm-up Problem: Die Roll"
   ]
  },
  {
   "cell_type": "markdown",
   "metadata": {},
   "source": [
    "Berapa probabilitas dari dadu 6 sisi untuk keluar angka genap? Untuk melambangkan ruang sampel, biasanya digunakan satu huruf. Disini kita lambangkan dengan `D`:"
   ]
  },
  {
   "cell_type": "code",
   "execution_count": 2,
   "metadata": {},
   "outputs": [
    {
     "data": {
      "text/plain": [
       "Fraction(1, 2)"
      ]
     },
     "execution_count": 2,
     "metadata": {},
     "output_type": "execute_result"
    }
   ],
   "source": [
    "D     = {1, 2, 3, 4, 5, 6} # a sample space\n",
    "even  = {   2,    4,    6} # an event\n",
    "\n",
    "P(even, D)"
   ]
  },
  {
   "cell_type": "markdown",
   "metadata": {},
   "source": [
    "Untuk mengonfirmasi apa yang sudah kita ketahui, kita akan eksplorasi event lain:"
   ]
  },
  {
   "cell_type": "code",
   "execution_count": 3,
   "metadata": {},
   "outputs": [],
   "source": [
    "prime = {2, 3, 5, 7, 11, 13}\n",
    "odd   = {1, 3, 5, 7, 9, 11, 13}"
   ]
  },
  {
   "cell_type": "code",
   "execution_count": 4,
   "metadata": {},
   "outputs": [
    {
     "data": {
      "text/plain": [
       "Fraction(1, 2)"
      ]
     },
     "execution_count": 4,
     "metadata": {},
     "output_type": "execute_result"
    }
   ],
   "source": [
    "P(odd, D)"
   ]
  },
  {
   "cell_type": "markdown",
   "metadata": {},
   "source": [
    "#### Event gabungan antara bilangan genap dan prima"
   ]
  },
  {
   "cell_type": "code",
   "execution_count": 5,
   "metadata": {},
   "outputs": [
    {
     "data": {
      "text/plain": [
       "{2, 3, 4, 5, 6, 7, 11, 13}"
      ]
     },
     "execution_count": 5,
     "metadata": {},
     "output_type": "execute_result"
    }
   ],
   "source": [
    "(even | prime)"
   ]
  },
  {
   "cell_type": "code",
   "execution_count": 6,
   "metadata": {},
   "outputs": [
    {
     "data": {
      "text/plain": [
       "Fraction(5, 6)"
      ]
     },
     "execution_count": 6,
     "metadata": {},
     "output_type": "execute_result"
    }
   ],
   "source": [
    "P((even | prime), D) # The probability of an even or prime die roll"
   ]
  },
  {
   "cell_type": "markdown",
   "metadata": {},
   "source": [
    "#### Event irisan antara bilangan ganjil dan prima"
   ]
  },
  {
   "cell_type": "code",
   "execution_count": 7,
   "metadata": {},
   "outputs": [
    {
     "data": {
      "text/plain": [
       "Fraction(1, 3)"
      ]
     },
     "execution_count": 7,
     "metadata": {},
     "output_type": "execute_result"
    }
   ],
   "source": [
    "P((odd & prime), D) # The probability of an odd prime die roll"
   ]
  },
  {
   "cell_type": "code",
   "execution_count": 8,
   "metadata": {},
   "outputs": [
    {
     "data": {
      "text/plain": [
       "{3, 5, 7, 11, 13}"
      ]
     },
     "execution_count": 8,
     "metadata": {},
     "output_type": "execute_result"
    }
   ],
   "source": [
    "(odd & prime)"
   ]
  }
 ],
 "metadata": {
  "kernelspec": {
   "display_name": "Python 3.10.8 64-bit",
   "language": "python",
   "name": "python3"
  },
  "language_info": {
   "codemirror_mode": {
    "name": "ipython",
    "version": 3
   },
   "file_extension": ".py",
   "mimetype": "text/x-python",
   "name": "python",
   "nbconvert_exporter": "python",
   "pygments_lexer": "ipython3",
   "version": "3.10.8"
  },
  "orig_nbformat": 4,
  "vscode": {
   "interpreter": {
    "hash": "58837b1b657ea91009af8409fc244ae3b5ccf93ea980d6fb6b80adc5f697f4cc"
   }
  }
 },
 "nbformat": 4,
 "nbformat_minor": 2
}
