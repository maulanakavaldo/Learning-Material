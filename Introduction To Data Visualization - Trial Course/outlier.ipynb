{
 "cells": [
  {
   "cell_type": "markdown",
   "metadata": {},
   "source": [
    "# Outlier\n",
    "\n",
    "Outlier (pencilan) adalah nilai ekstrim yang ada dalam data:\n",
    "* Nilai dari outlier berbeda jauh dari nilai yang kebanyakan muncul dalam data\n",
    "  * Nilai outlier bisa sangat besar.\n",
    "  * Maupun terlampau kecil.\n",
    " \n",
    "<center><img src=\"https://www.itl.nist.gov/div898/handbook/eda/gif/histogr8.gif\" width=\"400\"/></center>"
   ]
  },
  {
   "cell_type": "code",
   "execution_count": null,
   "metadata": {},
   "outputs": [],
   "source": [
    "import numpy as np\n",
    "import pandas as pd\n",
    "import matplotlib.pyplot as plt\n",
    "import seaborn as sns"
   ]
  },
  {
   "cell_type": "markdown",
   "metadata": {},
   "source": [
    "Misal, kita diberikan sebuah dataset yang berisi tarif taksi beserta jumlah penumpangnya. "
   ]
  },
  {
   "cell_type": "code",
   "execution_count": null,
   "metadata": {},
   "outputs": [],
   "source": [
    "df = pd.read_csv('data_outlier.csv')"
   ]
  },
  {
   "cell_type": "code",
   "execution_count": null,
   "metadata": {},
   "outputs": [],
   "source": [
    "df.head()"
   ]
  },
  {
   "cell_type": "markdown",
   "metadata": {},
   "source": [
    "Dalam kasus ini, kita ingin melihat apakah dari tiap kolom terdapat outlier atau tidak."
   ]
  },
  {
   "cell_type": "markdown",
   "metadata": {},
   "source": [
    "* Kolom jumlah penumpang"
   ]
  },
  {
   "cell_type": "code",
   "execution_count": null,
   "metadata": {},
   "outputs": [],
   "source": [
    "sns.histplot(df, x='n_pax', bins=100)\n",
    "plt.axvline(df.n_pax.mean(), color=\"r\", linestyle=\"--\", label = \"mean\")\n",
    "plt.axvline(df.n_pax.median(), color=\"b\", linestyle=\"--\", label = \"median\")\n",
    "plt.legend()\n",
    "plt.show()\n",
    "\n",
    "print(f'mean = {df.n_pax.mean()}')\n",
    "print(f'median = {df.n_pax.median()}')"
   ]
  },
  {
   "cell_type": "markdown",
   "metadata": {},
   "source": [
    "* Kolom harga"
   ]
  },
  {
   "cell_type": "code",
   "execution_count": null,
   "metadata": {},
   "outputs": [],
   "source": [
    "sns.histplot(df, x='fare', bins=100)\n",
    "plt.axvline(df.fare.mean(), color=\"r\", linestyle=\"--\", label = \"mean\")\n",
    "plt.axvline(df.fare.median(), color=\"b\", linestyle=\"--\", label = \"median\")\n",
    "plt.legend()\n",
    "plt.show()\n",
    "\n",
    "print(f'mean = {df.fare.mean()}')\n",
    "print(f'median = {df.fare.median()}')"
   ]
  },
  {
   "cell_type": "markdown",
   "metadata": {},
   "source": [
    "Dari plot tersebut, kita dapat menduga bahwa akan ada nilai outlier:\n",
    "* Nilai mean dan median berbeda\n",
    "  * Walaupun belum tentu pasti, namun bisa jadi salah satu indikator.\n",
    "  * Terlebih jika nilai berbeda cukup jauh.\n",
    "  * Karena nilai dari mean akan terpengaruh oleh outlier\n",
    "* Skala otomatis dari plot menunjukkan range yang besar\n",
    "  * Walaupun pada nilai yang besar tidak terlihat frekuensi sama sekali.\n",
    "  * Namun skala otomatis akan menyesuaikan dengan nilai maksimum.\n",
    "  * Sehingga kemungkinan besar ada nilai yang menyimpang dengan frekuensi yang sedikit"
   ]
  },
  {
   "cell_type": "markdown",
   "metadata": {},
   "source": [
    "## Boxplot\n",
    "\n",
    "Metode visualisasi lain yang dapat digunakan untuk melihat outlier adalah `boxplot`\n",
    "\n",
    "<center><img src=\"https://miro.medium.com/max/1400/1*2c21SkzJMf3frPXPAR_gZA.png\" width=\"400\"/></center>\n",
    "\n",
    "Definisi outlier pada boxplot dilihat dari 3 aspek:\n",
    "* Kuartil 1\n",
    "* Kuartil 3\n",
    "* Interquartile range\n",
    "* Suatu data dikatakan outlier jika lebih dari Q3 + 1.5 IQR.\n",
    "* Atau Q1 - 1.5 IQR"
   ]
  },
  {
   "cell_type": "code",
   "execution_count": null,
   "metadata": {},
   "outputs": [],
   "source": [
    "sns.boxplot(x = df.fare)"
   ]
  },
  {
   "cell_type": "code",
   "execution_count": null,
   "metadata": {},
   "outputs": [],
   "source": [
    "sns.boxplot(x = df.n_pax)"
   ]
  }
 ],
 "metadata": {
  "kernelspec": {
   "display_name": "Python 3.10.8 64-bit",
   "language": "python",
   "name": "python3"
  },
  "language_info": {
   "name": "python",
   "version": "3.10.8"
  },
  "orig_nbformat": 4,
  "vscode": {
   "interpreter": {
    "hash": "58837b1b657ea91009af8409fc244ae3b5ccf93ea980d6fb6b80adc5f697f4cc"
   }
  }
 },
 "nbformat": 4,
 "nbformat_minor": 2
}
