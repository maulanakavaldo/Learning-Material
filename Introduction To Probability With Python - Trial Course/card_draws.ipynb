{
 "cells": [
  {
   "cell_type": "code",
   "execution_count": 1,
   "metadata": {},
   "outputs": [],
   "source": [
    "import itertools\n",
    "from fractions import Fraction"
   ]
  },
  {
   "cell_type": "code",
   "execution_count": 2,
   "metadata": {},
   "outputs": [],
   "source": [
    "def P(event, space): \n",
    "    \"The probability of an event, given a sample space.\"\n",
    "    favorable = set.intersection # Outcomes that are in the event and in the sample space\n",
    "    cases     = len              # The number of cases is the length, or size, of a set\n",
    "    return Fraction(cases(favorable(event, space)), \n",
    "                    cases(space))"
   ]
  },
  {
   "cell_type": "markdown",
   "metadata": {},
   "source": [
    "# Card Problems\n",
    "\n",
    "Misal, dalam suatu permainan kartu:\n",
    "* Harus terdapat 5 kartu di tangan. \n",
    "* Kartu memiliki rank(tingkatan) and suit(gambar), seperti `'J♥'` untuk Jack of Hearts  \n",
    "* Sebuah `deck` memiliki 52 kartu:"
   ]
  },
  {
   "cell_type": "code",
   "execution_count": 3,
   "metadata": {},
   "outputs": [
    {
     "data": {
      "text/plain": [
       "52"
      ]
     },
     "execution_count": 3,
     "metadata": {},
     "output_type": "execute_result"
    }
   ],
   "source": [
    "suits = u'♥♠♦♣'\n",
    "ranks = u'AKQJT98765432'\n",
    "deck  = [r + s for r in ranks for s in suits]\n",
    "len(deck)"
   ]
  },
  {
   "cell_type": "code",
   "execution_count": 4,
   "metadata": {},
   "outputs": [
    {
     "data": {
      "text/plain": [
       "['A♥', 'A♠', 'A♦', 'A♣', 'K♥', 'K♠', 'K♦', 'K♣']"
      ]
     },
     "execution_count": 4,
     "metadata": {},
     "output_type": "execute_result"
    }
   ],
   "source": [
    "deck[:8]"
   ]
  },
  {
   "cell_type": "markdown",
   "metadata": {},
   "source": [
    "Sekarang kita definisikan `Hands` sebagai ruang sampel dari kombinasi 5-kartu dari `deck`. Untuk membuat kombinasi, akan digunakan fungsi `itertools.combinations` ; lalu kita akan menggabungkan masing-masing kombinasi kedalam string dengan pemisah berupas spasi:\n"
   ]
  },
  {
   "cell_type": "code",
   "execution_count": 5,
   "metadata": {},
   "outputs": [
    {
     "data": {
      "text/plain": [
       "2598960"
      ]
     },
     "execution_count": 5,
     "metadata": {},
     "output_type": "execute_result"
    }
   ],
   "source": [
    "def combos(items, n):\n",
    "    \"All combinations of n items; each combo as a space-separated str.\"\n",
    "    return set(map(' '.join, itertools.combinations(items, n)))\n",
    "\n",
    "Hands = combos(deck, 5)\n",
    "len(Hands)"
   ]
  },
  {
   "cell_type": "markdown",
   "metadata": {},
   "source": [
    "Kombinasinya akan ada sangat banyak, namun kita dapat mengambil sampel:"
   ]
  },
  {
   "cell_type": "code",
   "execution_count": 6,
   "metadata": {},
   "outputs": [
    {
     "name": "stderr",
     "output_type": "stream",
     "text": [
      "C:\\Users\\Acer\\AppData\\Local\\Temp\\ipykernel_1688\\1855166777.py:2: DeprecationWarning: Sampling from a set deprecated\n",
      "since Python 3.9 and will be removed in a subsequent version.\n",
      "  random.sample(Hands, 7)\n"
     ]
    },
    {
     "data": {
      "text/plain": [
       "['K♠ Q♥ 6♦ 3♦ 3♣',\n",
       " 'K♣ J♣ 9♠ 9♣ 7♣',\n",
       " 'A♣ 8♥ 8♠ 6♦ 5♠',\n",
       " 'T♠ 8♥ 6♦ 4♠ 2♥',\n",
       " 'J♦ J♣ T♦ 9♦ 2♠',\n",
       " 'A♥ Q♥ T♣ 7♠ 3♣',\n",
       " 'Q♦ J♦ 8♦ 6♦ 5♠']"
      ]
     },
     "execution_count": 6,
     "metadata": {},
     "output_type": "execute_result"
    }
   ],
   "source": [
    "import random\n",
    "random.sample(Hands, 7)"
   ]
  },
  {
   "cell_type": "code",
   "execution_count": 7,
   "metadata": {},
   "outputs": [
    {
     "data": {
      "text/plain": [
       "['7♦', '9♠', 'J♥', '7♣', 'J♣', 'A♥', '8♥']"
      ]
     },
     "execution_count": 7,
     "metadata": {},
     "output_type": "execute_result"
    }
   ],
   "source": [
    "random.sample(deck, 7)"
   ]
  },
  {
   "cell_type": "markdown",
   "metadata": {},
   "source": [
    "Sekarang, kita bisa menjawab permasalahan yang lebih kompleks seperti probabilitas untuk mendapatkan flush (5 kartu dengan simbol sama):"
   ]
  },
  {
   "cell_type": "code",
   "execution_count": 8,
   "metadata": {},
   "outputs": [
    {
     "data": {
      "text/plain": [
       "Fraction(33, 16660)"
      ]
     },
     "execution_count": 8,
     "metadata": {},
     "output_type": "execute_result"
    }
   ],
   "source": [
    "flush = {hand for hand in Hands if any(hand.count(suit) == 5 for suit in suits)}\n",
    "\n",
    "P(flush, Hands)"
   ]
  },
  {
   "cell_type": "code",
   "execution_count": 9,
   "metadata": {},
   "outputs": [
    {
     "name": "stderr",
     "output_type": "stream",
     "text": [
      "C:\\Users\\Acer\\AppData\\Local\\Temp\\ipykernel_1688\\3559532101.py:1: DeprecationWarning: Sampling from a set deprecated\n",
      "since Python 3.9 and will be removed in a subsequent version.\n",
      "  random.sample(flush, 3)\n"
     ]
    },
    {
     "data": {
      "text/plain": [
       "['A♣ K♣ J♣ 8♣ 3♣', '9♦ 8♦ 5♦ 4♦ 2♦', 'K♦ Q♦ 7♦ 4♦ 2♦']"
      ]
     },
     "execution_count": 9,
     "metadata": {},
     "output_type": "execute_result"
    }
   ],
   "source": [
    "random.sample(flush, 3)"
   ]
  },
  {
   "cell_type": "markdown",
   "metadata": {},
   "source": [
    "Atau probabilitas dari four of a kind (4 kartu memiliki rank sama):"
   ]
  },
  {
   "cell_type": "code",
   "execution_count": 10,
   "metadata": {},
   "outputs": [
    {
     "data": {
      "text/plain": [
       "Fraction(1, 4165)"
      ]
     },
     "execution_count": 10,
     "metadata": {},
     "output_type": "execute_result"
    }
   ],
   "source": [
    "four_kind = {hand for hand in Hands if any(hand.count(rank) == 4 for rank in ranks)}\n",
    "\n",
    "P(four_kind, Hands)"
   ]
  },
  {
   "cell_type": "code",
   "execution_count": 11,
   "metadata": {},
   "outputs": [
    {
     "name": "stderr",
     "output_type": "stream",
     "text": [
      "C:\\Users\\Acer\\AppData\\Local\\Temp\\ipykernel_1688\\4138174356.py:1: DeprecationWarning: Sampling from a set deprecated\n",
      "since Python 3.9 and will be removed in a subsequent version.\n",
      "  random.sample(four_kind, 3)\n"
     ]
    },
    {
     "data": {
      "text/plain": [
       "['A♥ A♠ A♦ A♣ 3♥', 'A♥ T♥ T♠ T♦ T♣', '9♠ 7♥ 7♠ 7♦ 7♣']"
      ]
     },
     "execution_count": 11,
     "metadata": {},
     "output_type": "execute_result"
    }
   ],
   "source": [
    "random.sample(four_kind, 3)"
   ]
  }
 ],
 "metadata": {
  "kernelspec": {
   "display_name": "Python 3.10.8 64-bit",
   "language": "python",
   "name": "python3"
  },
  "language_info": {
   "codemirror_mode": {
    "name": "ipython",
    "version": 3
   },
   "file_extension": ".py",
   "mimetype": "text/x-python",
   "name": "python",
   "nbconvert_exporter": "python",
   "pygments_lexer": "ipython3",
   "version": "3.10.8"
  },
  "orig_nbformat": 4,
  "vscode": {
   "interpreter": {
    "hash": "58837b1b657ea91009af8409fc244ae3b5ccf93ea980d6fb6b80adc5f697f4cc"
   }
  }
 },
 "nbformat": 4,
 "nbformat_minor": 2
}
